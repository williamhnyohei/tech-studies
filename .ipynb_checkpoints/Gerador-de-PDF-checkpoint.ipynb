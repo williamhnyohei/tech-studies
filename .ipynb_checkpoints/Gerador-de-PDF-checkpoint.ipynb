{
 "cells": [
  {
   "cell_type": "markdown",
   "id": "d78745bb",
   "metadata": {},
   "source": [
    "# Sistema de Orçamento"
   ]
  },
  {
   "cell_type": "code",
   "execution_count": 1,
   "id": "74922890",
   "metadata": {},
   "outputs": [
    {
     "name": "stdout",
     "output_type": "stream",
     "text": [
      "Orçamento gerado com SUCESSO!\n"
     ]
    }
   ],
   "source": [
    "print(\"Orçamento gerado com SUCESSO!\")"
   ]
  },
  {
   "cell_type": "markdown",
   "id": "38848128",
   "metadata": {},
   "source": [
    "### Entrada de dados do usuário:"
   ]
  },
  {
   "cell_type": "markdown",
   "id": "e55f2212",
   "metadata": {},
   "source": [
    "## input(\"Descrição do projeto: \")\n",
    "input(\"Quantidade de horas: \")\n",
    "input(\"Valor da hora: \")\n",
    "input(\"Prazo: \")"
   ]
  },
  {
   "cell_type": "markdown",
   "id": "84aadf04",
   "metadata": {},
   "source": [
    "### Armazenando dados com variáveis:"
   ]
  },
  {
   "cell_type": "code",
   "execution_count": 3,
   "id": "7ed2fda1",
   "metadata": {},
   "outputs": [
    {
     "name": "stdout",
     "output_type": "stream",
     "text": [
      "Nome do projeto: 2\n",
      "2\n"
     ]
    }
   ],
   "source": [
    "projeto = input(\"Nome do projeto: \")\n",
    "print(projeto)"
   ]
  },
  {
   "cell_type": "code",
   "execution_count": 4,
   "id": "d6d521ad",
   "metadata": {},
   "outputs": [
    {
     "name": "stdout",
     "output_type": "stream",
     "text": [
      "insiro o valor de A: 2\n",
      "insiro o valor de B: 2\n"
     ]
    },
    {
     "data": {
      "text/plain": [
       "4"
      ]
     },
     "execution_count": 4,
     "metadata": {},
     "output_type": "execute_result"
    }
   ],
   "source": [
    "A = input(\"insiro o valor de A: \")\n",
    "B = input(\"insiro o valor de B: \")\n",
    "#A + B = AB, int(A) + int (B) = C\n",
    "int(A) + int(B)"
   ]
  },
  {
   "cell_type": "markdown",
   "id": "b3650166",
   "metadata": {},
   "source": [
    "## Gerando o PDF do Projeto"
   ]
  },
  {
   "cell_type": "code",
   "execution_count": 5,
   "id": "8d22f27d",
   "metadata": {},
   "outputs": [
    {
     "name": "stdout",
     "output_type": "stream",
     "text": [
      "Requirement already satisfied: fpdf in c:\\users\\willi\\anaconda3\\lib\\site-packages (1.7.2)\n"
     ]
    }
   ],
   "source": [
    "!pip install fpdf"
   ]
  },
  {
   "cell_type": "code",
   "execution_count": 8,
   "id": "5f3e6cce",
   "metadata": {},
   "outputs": [
    {
     "name": "stdout",
     "output_type": "stream",
     "text": [
      "PDF criado com sucesso!\n"
     ]
    }
   ],
   "source": [
    "from fpdf import FPDF\n",
    "\n",
    "# Criar uma instância da classe FPDF\n",
    "pdf = FPDF()\n",
    "pdf.add_page()  # Adicionar uma página ao PDF\n",
    "\n",
    "# Configurar a fonte e o tamanho\n",
    "pdf.set_font(\"Arial\", size=12)\n",
    "\n",
    "# Adicionar um título\n",
    "pdf.set_font(\"Arial\", size=16, style=\"B\")\n",
    "pdf.cell(200, 10, \"Meu Documento PDF\", ln=True, align=\"C\")\n",
    "\n",
    "# Adicionar alguns parágrafos de texto\n",
    "texto = \"Este é um exemplo de como usar o FPDF em um notebook Jupyter para criar documentos PDF.\"\n",
    "pdf.set_font(\"Arial\", size=12)\n",
    "pdf.multi_cell(0, 10, texto)\n",
    "\n",
    "# Salvar o PDF\n",
    "pdf.output(\"exemplo.pdf\")\n",
    "\n",
    "print(\"PDF criado com sucesso!\")\n"
   ]
  },
  {
   "cell_type": "code",
   "execution_count": null,
   "id": "d520f524",
   "metadata": {},
   "outputs": [],
   "source": []
  }
 ],
 "metadata": {
  "kernelspec": {
   "display_name": "Python 3 (ipykernel)",
   "language": "python",
   "name": "python3"
  },
  "language_info": {
   "codemirror_mode": {
    "name": "ipython",
    "version": 3
   },
   "file_extension": ".py",
   "mimetype": "text/x-python",
   "name": "python",
   "nbconvert_exporter": "python",
   "pygments_lexer": "ipython3",
   "version": "3.11.3"
  }
 },
 "nbformat": 4,
 "nbformat_minor": 5
}
