{
 "cells": [
  {
   "cell_type": "markdown",
   "id": "54e8d2ca",
   "metadata": {},
   "source": [
    "# Getters e Setters em Java\n",
    "\n",
    "Os métodos `get` e `set` fazem parte do paradigma de programação orientada a objetos. Eles são usados para acessar (get) e modificar (set) atributos privados de uma classe."
   ]
  },
  {
   "cell_type": "markdown",
   "id": "b77e357a",
   "metadata": {},
   "source": [
    "## Por que usar Getters e Setters?\n",
    "- **Encapsulamento**: protege os dados da classe.\n",
    "- **Validação**: permite inserir lógica antes de modificar valores.\n",
    "- **Controle de acesso**: podemos tornar apenas leitura ou escrita acessível.\n",
    "- **Manutenção**: torna mais fácil modificar a lógica interna sem afetar o restante do código."
   ]
  },
  {
   "cell_type": "code",
   "execution_count": null,
   "id": "07b73121",
   "metadata": {},
   "outputs": [],
   "source": [
    "// Exemplo básico de getter e setter em Java\n",
    "public class Pessoa {\n",
    "    private String nome;\n",
    "\n",
    "    public String getNome() {\n",
    "        return nome;\n",
    "    }\n",
    "\n",
    "    public void setNome(String nome) {\n",
    "        this.nome = nome;\n",
    "    }\n",
    "}"
   ]
  },
  {
   "cell_type": "code",
   "execution_count": null,
   "id": "ae17d52a",
   "metadata": {},
   "outputs": [],
   "source": [
    "// Usando os getters e setters\n",
    "Pessoa p = new Pessoa();\n",
    "p.setNome(\"Willian\");\n",
    "System.out.println(p.getNome());"
   ]
  },
  {
   "cell_type": "code",
   "execution_count": null,
   "id": "22d2ad03",
   "metadata": {},
   "outputs": [],
   "source": [
    "// Adicionando validação\n",
    "public void setIdade(int idade) {\n",
    "    if (idade >= 0) {\n",
    "        this.idade = idade;\n",
    "    } else {\n",
    "        System.out.println(\"Idade inválida.\");\n",
    "    }\n",
    "}"
   ]
  },
  {
   "cell_type": "code",
   "execution_count": null,
   "id": "ff638de4",
   "metadata": {},
   "outputs": [],
   "source": [
    "// Getter sem setter (somente leitura)\n",
    "public class Produto {\n",
    "    private final int id;\n",
    "    public Produto(int id) {\n",
    "        this.id = id;\n",
    "    }\n",
    "\n",
    "    public int getId() {\n",
    "        return id;\n",
    "    }\n",
    "}"
   ]
  },
  {
   "cell_type": "code",
   "execution_count": null,
   "id": "de92328a",
   "metadata": {},
   "outputs": [],
   "source": [
    "// Setter sem getter (somente escrita)\n",
    "public class Log {\n",
    "    private String ultimaMensagem;\n",
    "\n",
    "    public void setMensagem(String msg) {\n",
    "        this.ultimaMensagem = msg;\n",
    "        System.out.println(\"Log: \" + msg);\n",
    "    }\n",
    "}"
   ]
  },
  {
   "cell_type": "markdown",
   "id": "9defd005",
   "metadata": {},
   "source": [
    "## Conclusão\n",
    "Getters e setters são fundamentais para encapsular dados em Java. Evite expor atributos diretamente e prefira controlar o acesso com métodos apropriados. Isso melhora a segurança, manutenibilidade e reutilização do seu código."
   ]
  }
 ],
 "metadata": {},
 "nbformat": 4,
 "nbformat_minor": 5
}