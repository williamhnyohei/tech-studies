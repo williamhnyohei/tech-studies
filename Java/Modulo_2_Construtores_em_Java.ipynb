{
 "cells": [
  {
   "cell_type": "markdown",
   "id": "00d2fc74",
   "metadata": {},
   "source": [
    "# Módulo 2 - Construtores em Java\n",
    "\n",
    "Neste módulo, você vai aprender o que são **construtores** em Java, como utilizá-los corretamente e por que eles são essenciais para inicializar objetos.\n"
   ]
  },
  {
   "cell_type": "markdown",
   "id": "1a7d7644",
   "metadata": {},
   "source": [
    "## O que é um Construtor?\n",
    "\n",
    "Um **construtor** é um método especial que é chamado quando um objeto é criado. Ele geralmente é usado para **inicializar atributos** da classe.\n",
    "\n",
    "### Características:\n",
    "- Possui o mesmo nome da classe\n",
    "- Não possui tipo de retorno (nem `void`)\n",
    "- Pode ter parâmetros (ou não)\n"
   ]
  },
  {
   "cell_type": "code",
   "execution_count": null,
   "id": "1f1f81c4",
   "metadata": {},
   "outputs": [],
   "source": [
    "// Exemplo básico de construtor\n",
    "public class Pessoa {\n",
    "    String nome;\n",
    "    int idade;\n",
    "\n",
    "    // Construtor\n",
    "    public Pessoa(String nome, int idade) {\n",
    "        this.nome = nome;\n",
    "        this.idade = idade;\n",
    "    }\n",
    "}\n",
    "\n",
    "Pessoa p1 = new Pessoa(\"João\", 30);"
   ]
  },
  {
   "cell_type": "markdown",
   "id": "b8b81973",
   "metadata": {},
   "source": [
    "## Construtor Padrão vs Personalizado\n",
    "\n",
    "- **Construtor padrão:** é o construtor sem parâmetros, criado automaticamente se nenhum outro for definido.\n",
    "- **Construtor personalizado:** quando você define um construtor com parâmetros, o padrão deixa de ser criado automaticamente.\n"
   ]
  },
  {
   "cell_type": "code",
   "execution_count": null,
   "id": "cc04a6d1",
   "metadata": {},
   "outputs": [],
   "source": [
    "public class Produto {\n",
    "    String nome;\n",
    "    double preco;\n",
    "\n",
    "    // Construtor padrão\n",
    "    public Produto() {\n",
    "        this.nome = \"Sem nome\";\n",
    "        this.preco = 0.0;\n",
    "    }\n",
    "\n",
    "    // Construtor personalizado\n",
    "    public Produto(String nome, double preco) {\n",
    "        this.nome = nome;\n",
    "        this.preco = preco;\n",
    "    }\n",
    "}"
   ]
  },
  {
   "cell_type": "markdown",
   "id": "eef63e8d",
   "metadata": {},
   "source": [
    "## Por que usar Construtores?\n",
    "\n",
    "- Para garantir que um objeto seja criado já com valores válidos\n",
    "- Para facilitar a criação de objetos com diferentes características\n"
   ]
  },
  {
   "cell_type": "markdown",
   "id": "7e08b94d",
   "metadata": {},
   "source": [
    "## Dicas:\n",
    "- Sempre que possível, use construtores para manter seus objetos consistentes.\n",
    "- Combine construtores com `set` quando quiser permitir mudanças futuras no objeto.\n"
   ]
  },
  {
   "cell_type": "markdown",
   "id": "76e477b9",
   "metadata": {},
   "source": [
    "---\n",
    "**Próximo Módulo:** Módulo 3 - Sobrecarga de Métodos\n"
   ]
  }
 ],
 "metadata": {
  "kernelspec": {
   "display_name": "Java",
   "language": "java",
   "name": "java"
  },
  "language_info": {
   "name": "java"
  }
 },
 "nbformat": 4,
 "nbformat_minor": 5
}
