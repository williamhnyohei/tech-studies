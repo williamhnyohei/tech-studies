{
 "cells": [
  {
   "cell_type": "code",
   "execution_count": 1,
   "id": "4123fba7",
   "metadata": {},
   "outputs": [
    {
     "name": "stdout",
     "output_type": "stream",
     "text": [
      "0\n",
      "1\n",
      "2\n",
      "3\n",
      "4\n",
      "5\n",
      "6\n",
      "7\n",
      "8\n",
      "9\n"
     ]
    }
   ],
   "source": [
    "\"\"\"\n",
    "The variable i serves as the counter over the RANGE of [0,10), \n",
    "inclusive of lower but exclusive of upper bound.\n",
    "\n",
    "The lower bound of 0 does NOT need to be specify;\n",
    "it is implemented by default unless another lower bound is specified.\n",
    "\n",
    "Also by default, if there does NOT exists a third parameter for range(), \n",
    "then i increments by 1. \n",
    "\"\"\"\n",
    "for i in range(10):\n",
    "  print(i)\n"
   ]
  },
  {
   "cell_type": "code",
   "execution_count": 6,
   "id": "68cc0630",
   "metadata": {},
   "outputs": [
    {
     "name": "stdout",
     "output_type": "stream",
     "text": [
      "2\n",
      "3\n",
      "4\n",
      "5\n",
      "6\n",
      "7\n",
      "8\n",
      "9\n"
     ]
    }
   ],
   "source": [
    "\"\"\"\n",
    "forEeach loop over the each character in a string.\n",
    "\n",
    "In this example, the variable 'i' represents every element/character of 'hello.'\n",
    "\"\"\"\n",
    "for x in range(2, 10):\n",
    "  print(x)"
   ]
  },
  {
   "cell_type": "code",
   "execution_count": 3,
   "id": "157ef284",
   "metadata": {},
   "outputs": [
    {
     "name": "stdout",
     "output_type": "stream",
     "text": [
      "0\n",
      "3\n",
      "6\n",
      "9\n"
     ]
    }
   ],
   "source": [
    "\"\"\"\n",
    "The third parameter in range() defines the number of steps to increment the counter.\n",
    "\n",
    "In this example, x starts at the value of 0 and stops at 9 inclusively, or 10 exclusive, \n",
    "with x increments by 3 with each iteration.\n",
    "\"\"\"\n",
    "for i in range(0, 10, 3):\n",
    "  print(i)"
   ]
  },
  {
   "cell_type": "code",
   "execution_count": 4,
   "id": "344e3fbe",
   "metadata": {},
   "outputs": [
    {
     "name": "stdout",
     "output_type": "stream",
     "text": [
      "h\n",
      "e\n",
      "l\n",
      "l\n",
      "o\n",
      "!\n"
     ]
    }
   ],
   "source": [
    "for i in \"hello!\":\n",
    "  print(i)"
   ]
  },
  {
   "cell_type": "code",
   "execution_count": 5,
   "id": "85f82542",
   "metadata": {},
   "outputs": [
    {
     "name": "stdout",
     "output_type": "stream",
     "text": [
      "0th letter is h\n",
      "2th letter is l\n",
      "4th letter is o\n",
      "6th letter is w\n",
      "8th letter is r\n",
      "10th letter is d\n"
     ]
    }
   ],
   "source": [
    "\"\"\"\n",
    "We could also iterate over the string by index.\n",
    "\n",
    "Consider the following example that iterates over the string by index,\n",
    "starting at index 0 and ending at the last element, with the counter increments by 2, \n",
    "so ONLY printing every other element in the string. \n",
    "\"\"\"\n",
    "string = \"hello world!\"\n",
    "for i in range(0, len(string), 2):\n",
    "  print(str(i) + \"th letter is \"+ string[i])"
   ]
  },
  {
   "cell_type": "code",
   "execution_count": 7,
   "id": "e447f785",
   "metadata": {},
   "outputs": [
    {
     "name": "stdout",
     "output_type": "stream",
     "text": [
      "0\n",
      "1\n",
      "2\n",
      "3\n",
      "4\n",
      "5\n",
      "6\n",
      "7\n",
      "8\n",
      "9\n"
     ]
    }
   ],
   "source": [
    "# Note: without updating the variable in the while loop, this will be an INFINITE loop!!\n",
    "\n",
    "count = 0\n",
    "while (count < 10):\n",
    "  print(count)\n",
    "\n",
    "  # IMPORTANT!!! Updating the counter!\n",
    "  count += 1"
   ]
  },
  {
   "cell_type": "code",
   "execution_count": 8,
   "id": "d6d330de",
   "metadata": {},
   "outputs": [
    {
     "name": "stdout",
     "output_type": "stream",
     "text": [
      "Enter something to be repeated: a\n",
      "a\n",
      "Enter something to be repeated: end\n",
      "Terminate the program!!!\n"
     ]
    }
   ],
   "source": [
    "# Consider a program that echos the user input, except for \"end\"\n",
    "# This program runs infinity, except when the user input \"end\" to terminate it\n",
    "\n",
    "while True:\n",
    "  user = input(\"Enter something to be repeated: \")\n",
    "\n",
    "  ## When break is triggered, the print() below will NOT run\n",
    "  ## The program will break out of the loop when this keyword is read. \n",
    "  if user==\"end\":\n",
    "    print(\"Terminate the program!!!\")\n",
    "    break\n",
    "  print(user)"
   ]
  },
  {
   "cell_type": "code",
   "execution_count": 9,
   "id": "c398f608",
   "metadata": {},
   "outputs": [
    {
     "name": "stdout",
     "output_type": "stream",
     "text": [
      "Enter something to be repeated: a\n",
      "a\n",
      "Enter something to be repeated: end\n",
      "Program Ended!!!\n"
     ]
    }
   ],
   "source": [
    "# Without using the keyword \"break,\" this is another implementation of the same program from above using a variable.\n",
    "\n",
    "end = False\n",
    "while end == False:\n",
    "  user = input(\"Enter something to be repeated: \")\n",
    "  if user==\"end\":\n",
    "    print(\"Program Ended!!!\")\n",
    "    end = True\n",
    "  else:\n",
    "    print(user)"
   ]
  },
  {
   "cell_type": "code",
   "execution_count": 10,
   "id": "52715a39",
   "metadata": {},
   "outputs": [
    {
     "name": "stdout",
     "output_type": "stream",
     "text": [
      "1\n",
      "2\n",
      "3\n",
      "4\n",
      "SKIP\n",
      "6\n",
      "7\n",
      "8\n",
      "9\n",
      "SKIP\n",
      "11\n",
      "12\n",
      "13\n",
      "14\n",
      "SKIP\n",
      "16\n",
      "17\n",
      "18\n",
      "19\n"
     ]
    }
   ],
   "source": [
    "\"\"\"\n",
    "Let's consider a loop that counts from 1-20, but skip all numbers that are mulitple of 5. \n",
    "In this case, we could NOT use the break keyword, because that will terminate the loop. \n",
    "We want to \"continue\" the loop except for a few numbers. \n",
    "\n",
    "We will implement this with both a while and a for loop. \n",
    "\"\"\"\n",
    "\n",
    "count = 1\n",
    "\n",
    "# WHILE loop implementation\n",
    "while count + 1 <= 20:\n",
    "  if count % 5 == 0:\n",
    "    print(\"SKIP\")\n",
    "    count += 1\n",
    "    continue\n",
    "  print(count)\n",
    "  count += 1"
   ]
  },
  {
   "cell_type": "code",
   "execution_count": 11,
   "id": "4f4401a6",
   "metadata": {},
   "outputs": [
    {
     "name": "stdout",
     "output_type": "stream",
     "text": [
      "1\n",
      "2\n",
      "3\n",
      "4\n",
      "SKIP\n",
      "6\n",
      "7\n",
      "8\n",
      "9\n",
      "SKIP\n",
      "11\n",
      "12\n",
      "13\n",
      "14\n",
      "SKIP\n",
      "16\n",
      "17\n",
      "18\n",
      "19\n"
     ]
    }
   ],
   "source": [
    "# FOR loop implementation\n",
    "\n",
    "for i in range (1, 20):\n",
    "  if i % 5 == 0:\n",
    "    print(\"SKIP\")\n",
    "    continue\n",
    "  print(i)"
   ]
  },
  {
   "cell_type": "code",
   "execution_count": 1,
   "id": "deb20a26",
   "metadata": {},
   "outputs": [
    {
     "name": "stdout",
     "output_type": "stream",
     "text": [
      "Enter the length for the first edge of the traingle:5\n",
      "Enter the length for the second edge of the traingle:2\n",
      "Enter the length for the last edge of the traingle:1\n",
      "NOT a right triangle\n"
     ]
    }
   ],
   "source": [
    "\"\"\"\n",
    "We will write our own function that tests whether a traingle of 3 sides is a right triangle. \n",
    "Since we could not control the order the sides that user gives us (such that c is the longest length), \n",
    "we need to need to manually check if c is the longest length (length a and b can be any order). \n",
    "Otherwise, our Pythagorean Theorem will failed. \n",
    "\"\"\"\n",
    "\n",
    "def isRightTriangle(a, b, c):\n",
    "\n",
    "  # Reassign variable values to ensure c is the longest length\n",
    "  if (max(a,b,c) != c):\n",
    "\n",
    "    # tmp stores the previous c values, that's not the longest length\n",
    "    tmp = c\n",
    "    c = max(a,b,c)\n",
    "\n",
    "    if a == c:\n",
    "      a = tmp\n",
    "    elif b == c:\n",
    "      b = tmp\n",
    "    \n",
    "\n",
    "  # Apply the formula  \n",
    "  if a**2 + b**2 == c**2:\n",
    "    print(\"Right Triangle\")\n",
    "\n",
    "    # If the program sees a return statement, this is the END of the program/function\n",
    "    return True\n",
    "  \n",
    "  # These two lines will ONLY run when the IF condition is false\n",
    "  print(\"NOT a right triangle\")\n",
    "  return False\n",
    "\n",
    "\n",
    "# Prompt the user to enter 3 lengths\n",
    "def main():\n",
    "  a = input(\"Enter the length for the first edge of the traingle:\")\n",
    "  b = input(\"Enter the length for the second edge of the traingle:\")\n",
    "  c = input(\"Enter the length for the last edge of the traingle:\")\n",
    "\n",
    "  # User inputs are stored as a string, so we cast them to be int\n",
    "  return isRightTriangle(int(a), int(b), int(c))\n",
    "\n",
    "if __name__ == \"__main__\":\n",
    "    main()"
   ]
  },
  {
   "cell_type": "code",
   "execution_count": 2,
   "id": "9906031a",
   "metadata": {},
   "outputs": [
    {
     "name": "stdout",
     "output_type": "stream",
     "text": [
      "Enter a sentence to be tested as a palindrome:racecar\n",
      "racecar is a palindrome!\n"
     ]
    }
   ],
   "source": [
    "\"\"\"\n",
    "Another example: determine if the user input is a palindrome. \n",
    "\n",
    "Palindrome: If a word/sentence is spelled the same way when it is reversed. \n",
    "  EX: racecar\n",
    "\n",
    "For this example, let's make this more involved. \n",
    "In stead checking if a word is a palindrome, we will test if a sentence is a palindrome. \n",
    "\n",
    "In order to write this program, we will set a few specifications:\n",
    "  - Treat capitalized letters as lowercase\n",
    "  - Ignore all white spaces and punctuations\n",
    "  - An empty sentence/string IS consider to be a palindrome. \n",
    "\"\"\"\n",
    "\n",
    "# import the string package\n",
    "# We will go over packages/libraries more in Module 5\n",
    "import string\n",
    "\n",
    "\n",
    "# This implementation of the function RETURN a boolean value, True/False\n",
    "def isPalindrome(str):\n",
    "\n",
    "  # Since we could not control what user enters for the sentence, let's sanitize the sentence first.\n",
    "  # We will remove all punctuations and white spaces from the sentence, make all letters lowercase\n",
    "  exclude = set(string.punctuation)\n",
    "  str = ''.join(ch for ch in str if ch not in exclude)\n",
    "  str = str.replace(\" \", \"\").lower()\n",
    "\n",
    "  # Compare the original string with the string in reversed order\n",
    "    # Notation of str[::-1]: first 2 numbers define the start and end of string, last number of -1 means in reversed order\n",
    "\n",
    "  # Check if the string is the same in reversed order as the original order\n",
    "  if str == str[::-1]:\n",
    "    return True\n",
    "  else:\n",
    "    return False\n",
    "\n",
    "# Prompt the user to enter the sentence\n",
    "def main():\n",
    "  userSentence = input(\"Enter a sentence to be tested as a palindrome:\")\n",
    "\n",
    "  if (isPalindrome(userSentence)):\n",
    "    print(userSentence + \" is a palindrome!\")\n",
    "  else:\n",
    "    print(userSentence + \" is NOT a palindrome!\")\n",
    "\n",
    "if __name__ == \"__main__\":\n",
    "    main()"
   ]
  },
  {
   "cell_type": "code",
   "execution_count": 3,
   "id": "186e546c",
   "metadata": {},
   "outputs": [
    {
     "name": "stdout",
     "output_type": "stream",
     "text": [
      "Enter a sentence to be tested as a palindrome:heloo\n",
      "heloo is NOT a palindrome!\n"
     ]
    }
   ],
   "source": [
    "# Consider this implementation of the function that RETURN a string.\n",
    "# Take note of the difference between the main() and isPalindrom() following this change. \n",
    "\n",
    "import string\n",
    "\n",
    "def isPalindrome(str):\n",
    "  exclude = set(string.punctuation)\n",
    "  str = ''.join(ch for ch in str if ch not in exclude)\n",
    "  str = str.replace(\" \", \"\").lower()\n",
    "  if str == str[::-1]:\n",
    "    return str + \" is a palindrome!\"\n",
    "  else:\n",
    "    return str + \" is NOT a palindrome!\"\n",
    "\n",
    "def main():\n",
    "  userSentence = input(\"Enter a sentence to be tested as a palindrome:\")\n",
    "  print(isPalindrome(userSentence))\n",
    "\n",
    "if __name__ == \"__main__\":\n",
    "    main()"
   ]
  },
  {
   "cell_type": "code",
   "execution_count": 4,
   "id": "40cc7d75",
   "metadata": {},
   "outputs": [
    {
     "ename": "IndentationError",
     "evalue": "expected an indented block after function definition on line 10 (2348344560.py, line 15)",
     "output_type": "error",
     "traceback": [
      "\u001b[1;36m  Cell \u001b[1;32mIn[4], line 15\u001b[1;36m\u001b[0m\n\u001b[1;33m    def main():\u001b[0m\n\u001b[1;37m    ^\u001b[0m\n\u001b[1;31mIndentationError\u001b[0m\u001b[1;31m:\u001b[0m expected an indented block after function definition on line 10\n"
     ]
    }
   ],
   "source": [
    "\"\"\"\n",
    "Above we worked through an example that test whether a sentence is a palindrome. \n",
    "Now it's your turn.\n",
    "\n",
    "Exercise: write a function to test if a word from the user is a palindrome. \n",
    "\n",
    "Function declarations are provided for you. \n",
    "\"\"\"\n",
    "\n",
    "def isPalindrome(str):\n",
    "  \n",
    "\n",
    "\n",
    "# Prompt the user to enter the sentence\n",
    "def main():\n",
    "  userInput = input(\"Enter a WORD to be tested as a palindrome:\")\n",
    "\n",
    "  if (isPalindrome(userInput)):\n",
    "    print(userInput + \" is a palindrome!\")\n",
    "  else:\n",
    "    print(userInput + \" is NOT a palindrome!\")\n",
    "\n",
    "if __name__ == \"__main__\":\n",
    "    main()"
   ]
  },
  {
   "cell_type": "code",
   "execution_count": null,
   "id": "d7703ba9",
   "metadata": {},
   "outputs": [],
   "source": []
  }
 ],
 "metadata": {
  "kernelspec": {
   "display_name": "Python 3 (ipykernel)",
   "language": "python",
   "name": "python3"
  },
  "language_info": {
   "codemirror_mode": {
    "name": "ipython",
    "version": 3
   },
   "file_extension": ".py",
   "mimetype": "text/x-python",
   "name": "python",
   "nbconvert_exporter": "python",
   "pygments_lexer": "ipython3",
   "version": "3.11.3"
  }
 },
 "nbformat": 4,
 "nbformat_minor": 5
}
