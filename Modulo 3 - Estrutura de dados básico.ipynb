{
 "cells": [
  {
   "cell_type": "code",
   "execution_count": 2,
   "id": "df3e3e6b",
   "metadata": {},
   "outputs": [],
   "source": [
    "# Initiate an empty list\n",
    "list1 = []\n",
    "# OR\n",
    "list1 = list()\n",
    "\n",
    "# Initiate a list with elements\n",
    "list2 = ['hello', 'hola', 'olá']\n",
    "\n",
    "\"\"\"\n",
    "Elements in list does NOT have to be the same type, but this is uncommon.\n",
    "In this case, each list could represent the series of information about a person, \n",
    "but you will need to remember what information is stored at each index. ---> There is a better option for this purpose - dictionary.\n",
    "\"\"\"\n",
    "list3 = [\"John\", \"male\", 20, False]"
   ]
  },
  {
   "cell_type": "code",
   "execution_count": 3,
   "id": "362afbbc",
   "metadata": {},
   "outputs": [
    {
     "name": "stdout",
     "output_type": "stream",
     "text": [
      "First element in list2 : hello\n",
      "Second element in list2 : hola\n"
     ]
    }
   ],
   "source": [
    "# Accessing information stored in the list by position (\"index\")\n",
    "# Note: in CS, first position is ALWAYS 0\n",
    "print(\"First element in list2 : \"+ list2[0])\n",
    "print(\"Second element in list2 : \"+ list2[1])"
   ]
  },
  {
   "cell_type": "code",
   "execution_count": 4,
   "id": "4133be83",
   "metadata": {},
   "outputs": [
    {
     "data": {
      "text/plain": [
       "'hallo'"
      ]
     },
     "execution_count": 4,
     "metadata": {},
     "output_type": "execute_result"
    }
   ],
   "source": [
    "# Insert a new element as a specific location, at index 1\n",
    "list2.insert(1,'hallo')\n",
    "list2[1]"
   ]
  },
  {
   "cell_type": "code",
   "execution_count": 5,
   "id": "a304e767",
   "metadata": {},
   "outputs": [
    {
     "data": {
      "text/plain": [
       "['hello', 'hallo', 'hola', 'olá', 'bye']"
      ]
     },
     "execution_count": 5,
     "metadata": {},
     "output_type": "execute_result"
    }
   ],
   "source": [
    "list2.append('bye')\n",
    "list2"
   ]
  },
  {
   "cell_type": "code",
   "execution_count": 6,
   "id": "4ba3742d",
   "metadata": {},
   "outputs": [],
   "source": [
    "# Remove an element from the list by specifying the element that you want to remove\n",
    "list2.remove('hello')"
   ]
  },
  {
   "cell_type": "code",
   "execution_count": 7,
   "id": "9a4b99f3",
   "metadata": {},
   "outputs": [
    {
     "data": {
      "text/plain": [
       "['hallo', 'hola', 'olá', 'bye']"
      ]
     },
     "execution_count": 7,
     "metadata": {},
     "output_type": "execute_result"
    }
   ],
   "source": [
    "# list2 after 'hello' is REMOVED\n",
    "list2"
   ]
  },
  {
   "cell_type": "code",
   "execution_count": 8,
   "id": "f135b409",
   "metadata": {},
   "outputs": [
    {
     "data": {
      "text/plain": [
       "['hallo', 'hola', 'olá', 'bye']"
      ]
     },
     "execution_count": 8,
     "metadata": {},
     "output_type": "execute_result"
    }
   ],
   "source": [
    "\"\"\"\n",
    "Another way to remove an element: pop()\n",
    "pop() allows you to identify the position you \n",
    "\"\"\"\n",
    "\n",
    "list2.append(\"hello\")\n",
    "\n",
    "list2.pop()\n",
    "\n",
    "list2"
   ]
  },
  {
   "cell_type": "code",
   "execution_count": 9,
   "id": "457985bf",
   "metadata": {},
   "outputs": [
    {
     "data": {
      "text/plain": [
       "['bye', 'hallo', 'hola', 'olá']"
      ]
     },
     "execution_count": 9,
     "metadata": {},
     "output_type": "execute_result"
    }
   ],
   "source": [
    "\"\"\"\n",
    "Lists could also be sorted. \n",
    "Method of sorting depends on how the comparable interface is implemented for the objects in the list.\n",
    "\n",
    "In this case of list2, sort() works by sorting individual characters in the string according to the ASCII code.\n",
    "\"\"\"\n",
    "list2.sort()\n",
    "list2"
   ]
  },
  {
   "cell_type": "code",
   "execution_count": 10,
   "id": "46c2de26",
   "metadata": {},
   "outputs": [
    {
     "name": "stdout",
     "output_type": "stream",
     "text": [
      "size of list1 = 0\n",
      "size of list2 = 4\n"
     ]
    }
   ],
   "source": [
    "\"\"\"\n",
    "Since list is dynamic, meaning that the size of the list grow or shrink as we insert or remove elements,\n",
    "we could call len() to find the size of the list at a given time. \n",
    "\"\"\"\n",
    "\n",
    "# Since len() returns an int, in order to concatenate it to a string, we need to cast it. \n",
    "print(\"size of list1 = \" + str(len(list1)))\n",
    "print(\"size of list2 = \" + str(len(list2)))"
   ]
  },
  {
   "cell_type": "code",
   "execution_count": 11,
   "id": "cac8c021",
   "metadata": {},
   "outputs": [
    {
     "data": {
      "text/plain": [
       "'bye,hallo,hola,olá'"
      ]
     },
     "execution_count": 11,
     "metadata": {},
     "output_type": "execute_result"
    }
   ],
   "source": [
    "# Print items in list as a string, separated by a comma\n",
    "\",\".join(list2)"
   ]
  },
  {
   "cell_type": "code",
   "execution_count": 12,
   "id": "60f1708c",
   "metadata": {},
   "outputs": [
    {
     "data": {
      "text/plain": [
       "[[1, 2, 3], ['a', 'b', 'c']]"
      ]
     },
     "execution_count": 12,
     "metadata": {},
     "output_type": "execute_result"
    }
   ],
   "source": [
    "# You could also have a list of lists. For example:\n",
    "\n",
    "lists = []\n",
    "lists.append([1,2,3])\n",
    "lists.append(['a','b','c'])\n",
    "\n",
    "lists"
   ]
  },
  {
   "cell_type": "code",
   "execution_count": 13,
   "id": "69e3d5f1",
   "metadata": {},
   "outputs": [
    {
     "data": {
      "text/plain": [
       "['a', 'b', 'c']"
      ]
     },
     "execution_count": 13,
     "metadata": {},
     "output_type": "execute_result"
    }
   ],
   "source": [
    "# Similarly, you could index the over multi-dimensional lists\n",
    "\n",
    "lists[1]"
   ]
  },
  {
   "cell_type": "code",
   "execution_count": 14,
   "id": "b3cef174",
   "metadata": {},
   "outputs": [
    {
     "data": {
      "text/plain": [
       "'a'"
      ]
     },
     "execution_count": 14,
     "metadata": {},
     "output_type": "execute_result"
    }
   ],
   "source": [
    "lists[1][0]"
   ]
  },
  {
   "cell_type": "code",
   "execution_count": 15,
   "id": "66d23cc6",
   "metadata": {},
   "outputs": [],
   "source": [
    "# Initialize an empty tuple\n",
    "y = tuple()\n",
    "y\n",
    "\n",
    "# Create a new tuple of elements\n",
    "x = (1,2,3)"
   ]
  },
  {
   "cell_type": "code",
   "execution_count": 16,
   "id": "103bdb96",
   "metadata": {},
   "outputs": [
    {
     "ename": "AttributeError",
     "evalue": "'tuple' object has no attribute 'append'",
     "output_type": "error",
     "traceback": [
      "\u001b[1;31m---------------------------------------------------------------------------\u001b[0m",
      "\u001b[1;31mAttributeError\u001b[0m                            Traceback (most recent call last)",
      "Cell \u001b[1;32mIn[16], line 2\u001b[0m\n\u001b[0;32m      1\u001b[0m \u001b[38;5;66;03m# ERROR: canot add to a tuple\u001b[39;00m\n\u001b[1;32m----> 2\u001b[0m x\u001b[38;5;241m.\u001b[39mappend(\u001b[38;5;241m4\u001b[39m)\n",
      "\u001b[1;31mAttributeError\u001b[0m: 'tuple' object has no attribute 'append'"
     ]
    }
   ],
   "source": [
    "# ERROR: canot add to a tuple\n",
    "x.append(4)"
   ]
  },
  {
   "cell_type": "code",
   "execution_count": 17,
   "id": "157f6385",
   "metadata": {},
   "outputs": [
    {
     "data": {
      "text/plain": [
       "(1, 2, 3, 4, 5, 6)"
      ]
     },
     "execution_count": 17,
     "metadata": {},
     "output_type": "execute_result"
    }
   ],
   "source": [
    "# This is OK because creating a new tuple with x and (4,5,6) added at the end\n",
    "x + (4,5,6)"
   ]
  },
  {
   "cell_type": "code",
   "execution_count": 18,
   "id": "9d39f793",
   "metadata": {},
   "outputs": [
    {
     "data": {
      "text/plain": [
       "(1, 2, 3)"
      ]
     },
     "execution_count": 18,
     "metadata": {},
     "output_type": "execute_result"
    }
   ],
   "source": [
    "# x is NOT modified by the previous line\n",
    "x"
   ]
  },
  {
   "cell_type": "code",
   "execution_count": 19,
   "id": "f7adc0a3",
   "metadata": {},
   "outputs": [
    {
     "data": {
      "text/plain": [
       "(1, 2, 3, 1, 2, 3)"
      ]
     },
     "execution_count": 19,
     "metadata": {},
     "output_type": "execute_result"
    }
   ],
   "source": [
    "# Create a new tuple with x apearing twice\n",
    "x * 2"
   ]
  },
  {
   "cell_type": "code",
   "execution_count": 20,
   "id": "bf981528",
   "metadata": {},
   "outputs": [
    {
     "data": {
      "text/plain": [
       "2"
      ]
     },
     "execution_count": 20,
     "metadata": {},
     "output_type": "execute_result"
    }
   ],
   "source": [
    "# Index on the elements in the tuple\n",
    "x.index(3)"
   ]
  },
  {
   "cell_type": "code",
   "execution_count": 21,
   "id": "59ac3b19",
   "metadata": {},
   "outputs": [],
   "source": [
    "# shorthand for \n",
    "#  (a,b,c) = (1,2,3)\n",
    "\n",
    "# This also assigns a = 1, b = 2, c = 3\n",
    "\n",
    "a,b,c = 1,2,3"
   ]
  },
  {
   "cell_type": "code",
   "execution_count": 22,
   "id": "f73de009",
   "metadata": {},
   "outputs": [
    {
     "data": {
      "text/plain": [
       "1"
      ]
     },
     "execution_count": 22,
     "metadata": {},
     "output_type": "execute_result"
    }
   ],
   "source": [
    "a\n"
   ]
  },
  {
   "cell_type": "code",
   "execution_count": 23,
   "id": "69009298",
   "metadata": {},
   "outputs": [
    {
     "data": {
      "text/plain": [
       "2"
      ]
     },
     "execution_count": 23,
     "metadata": {},
     "output_type": "execute_result"
    }
   ],
   "source": [
    "b"
   ]
  },
  {
   "cell_type": "code",
   "execution_count": 24,
   "id": "099a4928",
   "metadata": {},
   "outputs": [
    {
     "data": {
      "text/plain": [
       "3"
      ]
     },
     "execution_count": 24,
     "metadata": {},
     "output_type": "execute_result"
    }
   ],
   "source": [
    "c"
   ]
  },
  {
   "cell_type": "code",
   "execution_count": 25,
   "id": "5ad59376",
   "metadata": {},
   "outputs": [
    {
     "data": {
      "text/plain": [
       "[1, 2, 3, 4]"
      ]
     },
     "execution_count": 25,
     "metadata": {},
     "output_type": "execute_result"
    }
   ],
   "source": [
    "# Convert a tuple into a list\n",
    "x = (1,2,3,4)\n",
    "list(x)"
   ]
  },
  {
   "cell_type": "code",
   "execution_count": 26,
   "id": "45adacca",
   "metadata": {},
   "outputs": [
    {
     "data": {
      "text/plain": [
       "(1, 2, 3, 4)"
      ]
     },
     "execution_count": 26,
     "metadata": {},
     "output_type": "execute_result"
    }
   ],
   "source": [
    "# Convert a list into a tuple\n",
    "x = [1,2,3,4]\n",
    "tuple(x)"
   ]
  },
  {
   "cell_type": "code",
   "execution_count": 27,
   "id": "b4b28c7c",
   "metadata": {},
   "outputs": [],
   "source": [
    "# Declare a new tuple, name \"person\"\n",
    "person  = ('Jane','Doe', 21)\n",
    "\n",
    "# \"Pack\"/associate each element of the tuple with a label. Note the order of labels.\n",
    "first, last, age = person"
   ]
  },
  {
   "cell_type": "code",
   "execution_count": 28,
   "id": "a4e8f288",
   "metadata": {},
   "outputs": [
    {
     "data": {
      "text/plain": [
       "'Jane'"
      ]
     },
     "execution_count": 28,
     "metadata": {},
     "output_type": "execute_result"
    }
   ],
   "source": [
    "first"
   ]
  },
  {
   "cell_type": "code",
   "execution_count": 29,
   "id": "3bdf65f6",
   "metadata": {},
   "outputs": [
    {
     "data": {
      "text/plain": [
       "'Doe'"
      ]
     },
     "execution_count": 29,
     "metadata": {},
     "output_type": "execute_result"
    }
   ],
   "source": [
    "last"
   ]
  },
  {
   "cell_type": "code",
   "execution_count": 30,
   "id": "fdff3afb",
   "metadata": {},
   "outputs": [
    {
     "data": {
      "text/plain": [
       "21"
      ]
     },
     "execution_count": 30,
     "metadata": {},
     "output_type": "execute_result"
    }
   ],
   "source": [
    "age"
   ]
  },
  {
   "cell_type": "code",
   "execution_count": 31,
   "id": "390f5453",
   "metadata": {},
   "outputs": [
    {
     "ename": "ValueError",
     "evalue": "too many values to unpack (expected 3)",
     "output_type": "error",
     "traceback": [
      "\u001b[1;31m---------------------------------------------------------------------------\u001b[0m",
      "\u001b[1;31mValueError\u001b[0m                                Traceback (most recent call last)",
      "Cell \u001b[1;32mIn[31], line 5\u001b[0m\n\u001b[0;32m      1\u001b[0m \u001b[38;5;66;03m# ERROR: x is a tuple is 4 values but ONLY trying to unpack 3 elements.\u001b[39;00m\n\u001b[0;32m      2\u001b[0m \u001b[38;5;66;03m# Mismatch on the size of tuple\u001b[39;00m\n\u001b[0;32m      3\u001b[0m x \u001b[38;5;241m=\u001b[39m (\u001b[38;5;241m1\u001b[39m,\u001b[38;5;241m2\u001b[39m,\u001b[38;5;241m3\u001b[39m,\u001b[38;5;241m4\u001b[39m)\n\u001b[1;32m----> 5\u001b[0m a,b,c \u001b[38;5;241m=\u001b[39m x\n",
      "\u001b[1;31mValueError\u001b[0m: too many values to unpack (expected 3)"
     ]
    }
   ],
   "source": [
    "# ERROR: x is a tuple is 4 values but ONLY trying to unpack 3 elements.\n",
    "# Mismatch on the size of tuple\n",
    "x = (1,2,3,4)\n",
    "\n",
    "a,b,c = x"
   ]
  },
  {
   "cell_type": "code",
   "execution_count": 32,
   "id": "427f3964",
   "metadata": {},
   "outputs": [],
   "source": [
    "# This is OK!\n",
    "x = [1,2,3,4]\n",
    "a,b,c,d = x"
   ]
  },
  {
   "cell_type": "code",
   "execution_count": 33,
   "id": "a7481084",
   "metadata": {},
   "outputs": [
    {
     "data": {
      "text/plain": [
       "1"
      ]
     },
     "execution_count": 33,
     "metadata": {},
     "output_type": "execute_result"
    }
   ],
   "source": [
    "a"
   ]
  },
  {
   "cell_type": "code",
   "execution_count": 34,
   "id": "7f9969f4",
   "metadata": {},
   "outputs": [
    {
     "data": {
      "text/plain": [
       "2"
      ]
     },
     "execution_count": 34,
     "metadata": {},
     "output_type": "execute_result"
    }
   ],
   "source": [
    "b"
   ]
  },
  {
   "cell_type": "code",
   "execution_count": 35,
   "id": "fdec5e5b",
   "metadata": {},
   "outputs": [
    {
     "data": {
      "text/plain": [
       "3"
      ]
     },
     "execution_count": 35,
     "metadata": {},
     "output_type": "execute_result"
    }
   ],
   "source": [
    "c"
   ]
  },
  {
   "cell_type": "code",
   "execution_count": 36,
   "id": "fd46f512",
   "metadata": {},
   "outputs": [
    {
     "data": {
      "text/plain": [
       "4"
      ]
     },
     "execution_count": 36,
     "metadata": {},
     "output_type": "execute_result"
    }
   ],
   "source": [
    "d"
   ]
  },
  {
   "cell_type": "code",
   "execution_count": 37,
   "id": "8aa9b6b4",
   "metadata": {},
   "outputs": [
    {
     "data": {
      "text/plain": [
       "set()"
      ]
     },
     "execution_count": 37,
     "metadata": {},
     "output_type": "execute_result"
    }
   ],
   "source": [
    "# Initialize an empty set\n",
    "newSet = set()\n",
    "newSet"
   ]
  },
  {
   "cell_type": "code",
   "execution_count": 38,
   "id": "7af3d5f6",
   "metadata": {},
   "outputs": [
    {
     "data": {
      "text/plain": [
       "{1, 2}"
      ]
     },
     "execution_count": 38,
     "metadata": {},
     "output_type": "execute_result"
    }
   ],
   "source": [
    "# A set with elements\n",
    "ex1 = {1, 2, 2, 1, 1}\n",
    "\n",
    "ex1"
   ]
  },
  {
   "cell_type": "code",
   "execution_count": 39,
   "id": "64374027",
   "metadata": {},
   "outputs": [
    {
     "data": {
      "text/plain": [
       "{0, 1, 2, 3, 4, 5, 6, 7, 8, 9}"
      ]
     },
     "execution_count": 39,
     "metadata": {},
     "output_type": "execute_result"
    }
   ],
   "source": [
    "ex2 = {j for j in range(10)}\n",
    "ex2"
   ]
  },
  {
   "cell_type": "code",
   "execution_count": 40,
   "id": "49d9f7e0",
   "metadata": {},
   "outputs": [
    {
     "data": {
      "text/plain": [
       "{0, 1, 2, 3, 4, 5, 6, 7, 8, 9, 50, 100}"
      ]
     },
     "execution_count": 40,
     "metadata": {},
     "output_type": "execute_result"
    }
   ],
   "source": [
    "# 2 already exists in the ex2. What happen if we want to add 2 again?\n",
    "  # Note: The implementation for set did NOT define append(), so we will use add().\n",
    "    # add() will insert the new element in the correct position with the sorting of the set\n",
    "ex2.add(2)\n",
    "ex2.add(100)\n",
    "ex2.add(50)\n",
    "ex2"
   ]
  },
  {
   "cell_type": "code",
   "execution_count": 41,
   "id": "d2794de9",
   "metadata": {},
   "outputs": [
    {
     "ename": "TypeError",
     "evalue": "unhashable type: 'list'",
     "output_type": "error",
     "traceback": [
      "\u001b[1;31m---------------------------------------------------------------------------\u001b[0m",
      "\u001b[1;31mTypeError\u001b[0m                                 Traceback (most recent call last)",
      "Cell \u001b[1;32mIn[41], line 2\u001b[0m\n\u001b[0;32m      1\u001b[0m \u001b[38;5;66;03m# mutable objects can't go in a set\u001b[39;00m\n\u001b[1;32m----> 2\u001b[0m d_set \u001b[38;5;241m=\u001b[39m {[\u001b[38;5;241m1\u001b[39m,\u001b[38;5;241m2\u001b[39m,\u001b[38;5;241m3\u001b[39m]}\n\u001b[0;32m      4\u001b[0m d_set\n",
      "\u001b[1;31mTypeError\u001b[0m: unhashable type: 'list'"
     ]
    }
   ],
   "source": [
    "# mutable objects can't go in a set\n",
    "d_set = {[1,2,3]}\n",
    "\n",
    "d_set"
   ]
  },
  {
   "cell_type": "code",
   "execution_count": 42,
   "id": "1f039637",
   "metadata": {},
   "outputs": [
    {
     "data": {
      "text/plain": [
       "{1, 2, 4, 5, 10}"
      ]
     },
     "execution_count": 42,
     "metadata": {},
     "output_type": "execute_result"
    }
   ],
   "source": [
    "# Convert a list to a set\n",
    "ages = [10, 5, 4, 5, 2, 1, 5]\n",
    "\n",
    "set_of_ages = set(ages)\n",
    "\n",
    "set_of_ages"
   ]
  },
  {
   "cell_type": "code",
   "execution_count": 43,
   "id": "7e87b56d",
   "metadata": {},
   "outputs": [
    {
     "data": {
      "text/plain": [
       "[1, 2, 4, 5, 10]"
      ]
     },
     "execution_count": 43,
     "metadata": {},
     "output_type": "execute_result"
    }
   ],
   "source": [
    "# Convert a set to a list\n",
    "list_of_ages = list(set_of_ages)\n",
    "\n",
    "list_of_ages"
   ]
  },
  {
   "cell_type": "code",
   "execution_count": 44,
   "id": "fd10be81",
   "metadata": {},
   "outputs": [
    {
     "data": {
      "text/plain": [
       "True"
      ]
     },
     "execution_count": 44,
     "metadata": {},
     "output_type": "execute_result"
    }
   ],
   "source": [
    "# Order is irrelevant in set comparison since elements are sorted\n",
    "\n",
    "{1,2,3} == {2,1,3}"
   ]
  },
  {
   "cell_type": "code",
   "execution_count": 45,
   "id": "423480b5",
   "metadata": {},
   "outputs": [],
   "source": [
    "# Initiate an empty dictionary\n",
    "# Same as set, but with :\n",
    "dict = {}\n",
    "\n",
    "# Declare a dictionary with key/value pairs\n",
    "dict2 = {'a': 5, 'b': 10, 'c': 100, 'd': 9.5}"
   ]
  },
  {
   "cell_type": "code",
   "execution_count": 46,
   "id": "78d5c811",
   "metadata": {},
   "outputs": [
    {
     "data": {
      "text/plain": [
       "10"
      ]
     },
     "execution_count": 46,
     "metadata": {},
     "output_type": "execute_result"
    }
   ],
   "source": [
    "# Accessing data in a dictionary with a key\n",
    "dict2['b']"
   ]
  },
  {
   "cell_type": "code",
   "execution_count": 47,
   "id": "3810d4dd",
   "metadata": {},
   "outputs": [
    {
     "data": {
      "text/plain": [
       "50"
      ]
     },
     "execution_count": 47,
     "metadata": {},
     "output_type": "execute_result"
    }
   ],
   "source": [
    "# Update value of an existing key\n",
    "dict2['b'] = 50\n",
    "\n",
    "dict2['b']"
   ]
  },
  {
   "cell_type": "code",
   "execution_count": 48,
   "id": "0fde1a5b",
   "metadata": {},
   "outputs": [
    {
     "ename": "KeyError",
     "evalue": "'z'",
     "output_type": "error",
     "traceback": [
      "\u001b[1;31m---------------------------------------------------------------------------\u001b[0m",
      "\u001b[1;31mKeyError\u001b[0m                                  Traceback (most recent call last)",
      "Cell \u001b[1;32mIn[48], line 6\u001b[0m\n\u001b[0;32m      1\u001b[0m \u001b[38;5;66;03m# What happen if we want to access the value for a non-existing key? (e.g. 'z')\u001b[39;00m\n\u001b[0;32m      2\u001b[0m \n\u001b[0;32m      3\u001b[0m \n\u001b[0;32m      4\u001b[0m \u001b[38;5;66;03m# We might expect an ERROR because this key doesn't exist, so it doesn't have a value. \u001b[39;00m\n\u001b[0;32m      5\u001b[0m \u001b[38;5;66;03m# That is a correct assumption.\u001b[39;00m\n\u001b[1;32m----> 6\u001b[0m dict2[\u001b[38;5;124m'\u001b[39m\u001b[38;5;124mz\u001b[39m\u001b[38;5;124m'\u001b[39m]\n",
      "\u001b[1;31mKeyError\u001b[0m: 'z'"
     ]
    }
   ],
   "source": [
    "# What happen if we want to access the value for a non-existing key? (e.g. 'z')\n",
    "\n",
    "\n",
    "# We might expect an ERROR because this key doesn't exist, so it doesn't have a value. \n",
    "# That is a correct assumption.\n",
    "dict2['z']"
   ]
  },
  {
   "cell_type": "code",
   "execution_count": 49,
   "id": "df632628",
   "metadata": {},
   "outputs": [
    {
     "data": {
      "text/plain": [
       "999"
      ]
     },
     "execution_count": 49,
     "metadata": {},
     "output_type": "execute_result"
    }
   ],
   "source": [
    "# But if what if we do this, will this still return an ERROR?\n",
    "dict2['z'] = 999\n",
    "\n",
    "dict2['z']"
   ]
  },
  {
   "cell_type": "code",
   "execution_count": 50,
   "id": "e13e18b8",
   "metadata": {},
   "outputs": [
    {
     "data": {
      "text/plain": [
       "{'greeting': 'hello message',\n",
       " 'alphabet': ['a', 'b', 'c', 'd', 'e'],\n",
       " 'check-in': False,\n",
       " 'phoneNumber': 8007782346}"
      ]
     },
     "execution_count": 50,
     "metadata": {},
     "output_type": "execute_result"
    }
   ],
   "source": [
    "# Values in the dictionary can be mix-typed\n",
    "# Let's look at an example with dict{}, an empty dictionary initiated above.\n",
    "# Fist, we will insert some key/value pairs into the program. \n",
    "\n",
    "dict[\"greeting\"] = \"hello message\"\n",
    "dict[\"alphabet\"] = ['a', 'b', 'c', 'd', 'e']\n",
    "dict[\"check-in\"] = False\n",
    "dict[\"phoneNumber\"] = 8007782346\n",
    "\n",
    "dict"
   ]
  },
  {
   "cell_type": "code",
   "execution_count": 51,
   "id": "4188e925",
   "metadata": {},
   "outputs": [
    {
     "ename": "TypeError",
     "evalue": "unhashable type: 'list'",
     "output_type": "error",
     "traceback": [
      "\u001b[1;31m---------------------------------------------------------------------------\u001b[0m",
      "\u001b[1;31mTypeError\u001b[0m                                 Traceback (most recent call last)",
      "Cell \u001b[1;32mIn[51], line 11\u001b[0m\n\u001b[0;32m      1\u001b[0m \u001b[38;5;66;03m# IMPORTANT Note: key must be immutatble objects (something that cannot be changed)\u001b[39;00m\n\u001b[0;32m      2\u001b[0m \u001b[38;5;66;03m# String is immutable, because you could not just delete a character in a string. A string is a string, the way it is.\u001b[39;00m\n\u001b[0;32m      3\u001b[0m \n\u001b[1;32m   (...)\u001b[0m\n\u001b[0;32m      8\u001b[0m \n\u001b[0;32m      9\u001b[0m \u001b[38;5;66;03m# Because we could modify the list by inserting new element, sorting elements, deleting elements, or other ways of modifying it, it CANNOT be a key\u001b[39;00m\n\u001b[1;32m---> 11\u001b[0m \u001b[38;5;28mdict\u001b[39m[[\u001b[38;5;124m'\u001b[39m\u001b[38;5;124ma\u001b[39m\u001b[38;5;124m'\u001b[39m,\u001b[38;5;124m'\u001b[39m\u001b[38;5;124mb\u001b[39m\u001b[38;5;124m'\u001b[39m, \u001b[38;5;124m'\u001b[39m\u001b[38;5;124mc\u001b[39m\u001b[38;5;124m'\u001b[39m]] \u001b[38;5;241m=\u001b[39m [\u001b[38;5;28;01mFalse\u001b[39;00m, \u001b[38;5;28;01mTrue\u001b[39;00m, \u001b[38;5;28;01mFalse\u001b[39;00m]\n",
      "\u001b[1;31mTypeError\u001b[0m: unhashable type: 'list'"
     ]
    }
   ],
   "source": [
    "# IMPORTANT Note: key must be immutatble objects (something that cannot be changed)\n",
    "# String is immutable, because you could not just delete a character in a string. A string is a string, the way it is.\n",
    "\n",
    "# From above, we see that a list can be a value in the dictionary. \n",
    "# What happen when we try to make it a key?\n",
    "\n",
    "# ERROR: unhashable type of list \n",
    "\n",
    "# Because we could modify the list by inserting new element, sorting elements, deleting elements, or other ways of modifying it, it CANNOT be a key\n",
    "\n",
    "dict[['a','b', 'c']] = [False, True, False]"
   ]
  },
  {
   "cell_type": "code",
   "execution_count": 52,
   "id": "fea342a2",
   "metadata": {},
   "outputs": [
    {
     "data": {
      "text/plain": [
       "{'greeting': 'hello message',\n",
       " 'alphabet': ['a', 'b', 'c', 'd', 'e'],\n",
       " 'check-in': False,\n",
       " 'phoneNumber': 8007782346,\n",
       " ('a', 'b', 'c'): [False, True, False]}"
      ]
     },
     "execution_count": 52,
     "metadata": {},
     "output_type": "execute_result"
    }
   ],
   "source": [
    "# But since tuple is immutatble, we could replace the list with a tuple\n",
    "dict[('a','b', 'c')] = [False, True, False]\n",
    "\n",
    "dict"
   ]
  },
  {
   "cell_type": "code",
   "execution_count": 53,
   "id": "44061d56",
   "metadata": {},
   "outputs": [
    {
     "data": {
      "text/plain": [
       "dict_keys(['greeting', 'alphabet', 'check-in', 'phoneNumber', ('a', 'b', 'c')])"
      ]
     },
     "execution_count": 53,
     "metadata": {},
     "output_type": "execute_result"
    }
   ],
   "source": [
    "# We could also retrieve all the keys\n",
    "dict.keys()"
   ]
  },
  {
   "cell_type": "code",
   "execution_count": 54,
   "id": "9cd1f044",
   "metadata": {},
   "outputs": [
    {
     "data": {
      "text/plain": [
       "dict_values(['hello message', ['a', 'b', 'c', 'd', 'e'], False, 8007782346, [False, True, False]])"
      ]
     },
     "execution_count": 54,
     "metadata": {},
     "output_type": "execute_result"
    }
   ],
   "source": [
    "# Or all values\n",
    "dict.values()"
   ]
  },
  {
   "cell_type": "code",
   "execution_count": 55,
   "id": "bebaa568",
   "metadata": {},
   "outputs": [
    {
     "data": {
      "text/plain": [
       "dict_items([('greeting', 'hello message'), ('alphabet', ['a', 'b', 'c', 'd', 'e']), ('check-in', False), ('phoneNumber', 8007782346), (('a', 'b', 'c'), [False, True, False])])"
      ]
     },
     "execution_count": 55,
     "metadata": {},
     "output_type": "execute_result"
    }
   ],
   "source": [
    "# Elements in a dictionary could also be returned as a pair.\n",
    "dict.items()"
   ]
  },
  {
   "cell_type": "code",
   "execution_count": null,
   "id": "7190cedb",
   "metadata": {},
   "outputs": [],
   "source": []
  }
 ],
 "metadata": {
  "kernelspec": {
   "display_name": "Python 3 (ipykernel)",
   "language": "python",
   "name": "python3"
  },
  "language_info": {
   "codemirror_mode": {
    "name": "ipython",
    "version": 3
   },
   "file_extension": ".py",
   "mimetype": "text/x-python",
   "name": "python",
   "nbconvert_exporter": "python",
   "pygments_lexer": "ipython3",
   "version": "3.11.3"
  }
 },
 "nbformat": 4,
 "nbformat_minor": 5
}
