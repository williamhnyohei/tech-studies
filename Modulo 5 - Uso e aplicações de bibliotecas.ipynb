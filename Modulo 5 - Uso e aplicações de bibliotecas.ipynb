{
 "cells": [
  {
   "cell_type": "code",
   "execution_count": 1,
   "id": "7aaf5761",
   "metadata": {},
   "outputs": [
    {
     "name": "stdout",
     "output_type": "stream",
     "text": [
      "2^5 = 32.0\n"
     ]
    }
   ],
   "source": [
    "import math\n",
    "\n",
    "# Power function\n",
    "print(\"2^5 = \" + str(math.pow(2,5)))"
   ]
  },
  {
   "cell_type": "code",
   "execution_count": 2,
   "id": "8da81178",
   "metadata": {},
   "outputs": [
    {
     "name": "stdout",
     "output_type": "stream",
     "text": [
      "4\n",
      "11\n"
     ]
    }
   ],
   "source": [
    "# Ceiling function\n",
    "print(math.ceil(3.45))\n",
    "\n",
    "print(math.ceil(10.01))"
   ]
  },
  {
   "cell_type": "code",
   "execution_count": 3,
   "id": "862abbab",
   "metadata": {},
   "outputs": [
    {
     "name": "stdout",
     "output_type": "stream",
     "text": [
      "5\n",
      "11\n"
     ]
    }
   ],
   "source": [
    "# Floor function\n",
    "print(math.floor(5.25))\n",
    "\n",
    "print(math.floor(11.01))"
   ]
  },
  {
   "cell_type": "code",
   "execution_count": 4,
   "id": "6e1b418d",
   "metadata": {},
   "outputs": [
    {
     "name": "stdout",
     "output_type": "stream",
     "text": [
      "10.33\n",
      "5.25\n"
     ]
    }
   ],
   "source": [
    "# Absolute Value\n",
    "print(math.fabs(-10.33))\n",
    "\n",
    "print(math.fabs(5.25))"
   ]
  },
  {
   "cell_type": "code",
   "execution_count": 5,
   "id": "b1bcdb1e",
   "metadata": {},
   "outputs": [
    {
     "name": "stdout",
     "output_type": "stream",
     "text": [
      "6.907755278982137\n"
     ]
    }
   ],
   "source": [
    "# Log with base e, or natural log\n",
    "print(math.log(1000))"
   ]
  },
  {
   "cell_type": "code",
   "execution_count": 6,
   "id": "021521b3",
   "metadata": {},
   "outputs": [
    {
     "name": "stdout",
     "output_type": "stream",
     "text": [
      "2.9999999999999996\n"
     ]
    }
   ],
   "source": [
    "# Log with a specified base of 10\n",
    "print(math.log(1000,10))"
   ]
  },
  {
   "cell_type": "code",
   "execution_count": 7,
   "id": "37cf2a01",
   "metadata": {},
   "outputs": [
    {
     "data": {
      "text/plain": [
       "[1, 2, 3, 1, 2, 3, 1, 2, 3]"
      ]
     },
     "execution_count": 7,
     "metadata": {},
     "output_type": "execute_result"
    }
   ],
   "source": [
    "# Let's see what happen if we use a list to represent a vector?\n",
    "[1,2,3] * 3"
   ]
  },
  {
   "cell_type": "code",
   "execution_count": 8,
   "id": "8ba4f6ba",
   "metadata": {},
   "outputs": [
    {
     "data": {
      "text/plain": [
       "[3, 6, 9]"
      ]
     },
     "execution_count": 8,
     "metadata": {},
     "output_type": "execute_result"
    }
   ],
   "source": [
    "# Previous was NOT the expected output with vector multiplication by a scalar\n",
    "\n",
    "# Need to do this\n",
    "[i*3 for i in [1,2,3]]"
   ]
  },
  {
   "cell_type": "code",
   "execution_count": 9,
   "id": "8711ecff",
   "metadata": {},
   "outputs": [
    {
     "data": {
      "text/plain": [
       "[1, 2, 3, 4, 5, 6]"
      ]
     },
     "execution_count": 9,
     "metadata": {},
     "output_type": "execute_result"
    }
   ],
   "source": [
    "# What about summing two vectors?\n",
    "\n",
    "# Treated as list concatenation\n",
    "[1,2,3]+[4,5,6]"
   ]
  },
  {
   "cell_type": "code",
   "execution_count": 10,
   "id": "d9af65fe",
   "metadata": {},
   "outputs": [
    {
     "data": {
      "text/plain": [
       "[5, 7, 9]"
      ]
     },
     "execution_count": 10,
     "metadata": {},
     "output_type": "execute_result"
    }
   ],
   "source": [
    "# Sum two vectors\n",
    "a = [1,2,3]\n",
    "b = [4,5,6]\n",
    "[a[i] + b[i] for i in range(len(a))]"
   ]
  },
  {
   "cell_type": "code",
   "execution_count": 11,
   "id": "2eb13db7",
   "metadata": {},
   "outputs": [
    {
     "ename": "TypeError",
     "evalue": "can't multiply sequence by non-int of type 'list'",
     "output_type": "error",
     "traceback": [
      "\u001b[1;31m---------------------------------------------------------------------------\u001b[0m",
      "\u001b[1;31mTypeError\u001b[0m                                 Traceback (most recent call last)",
      "Cell \u001b[1;32mIn[11], line 2\u001b[0m\n\u001b[0;32m      1\u001b[0m \u001b[38;5;66;03m# cross product or dot product?\u001b[39;00m\n\u001b[1;32m----> 2\u001b[0m [\u001b[38;5;241m1\u001b[39m,\u001b[38;5;241m2\u001b[39m,\u001b[38;5;241m3\u001b[39m] \u001b[38;5;241m*\u001b[39m [\u001b[38;5;241m4\u001b[39m,\u001b[38;5;241m5\u001b[39m,\u001b[38;5;241m6\u001b[39m]\n",
      "\u001b[1;31mTypeError\u001b[0m: can't multiply sequence by non-int of type 'list'"
     ]
    }
   ],
   "source": [
    "# cross product or dot product?\n",
    "[1,2,3] * [4,5,6] "
   ]
  },
  {
   "cell_type": "code",
   "execution_count": 12,
   "id": "0b0f069f",
   "metadata": {},
   "outputs": [
    {
     "data": {
      "text/plain": [
       "32"
      ]
     },
     "execution_count": 12,
     "metadata": {},
     "output_type": "execute_result"
    }
   ],
   "source": [
    "# We could compute the dot product like this:\n",
    "\n",
    "u = [1,2,3]\n",
    "v = [4,5,6]\n",
    "\n",
    "total = 0 \n",
    "for i in range(len(u)):\n",
    "    total += u[i] * v[i]\n",
    "total"
   ]
  },
  {
   "cell_type": "code",
   "execution_count": 13,
   "id": "525278f7",
   "metadata": {},
   "outputs": [
    {
     "data": {
      "text/plain": [
       "32"
      ]
     },
     "execution_count": 13,
     "metadata": {},
     "output_type": "execute_result"
    }
   ],
   "source": [
    "# Let's see what happens if we use Numpy\n",
    "\n",
    "# np is a common convention to refer to numpy throughout the code\n",
    "import numpy as np \n",
    "u = np.array([1,2,3])\n",
    "v = np.array([4,5,6])\n",
    "\n",
    "# dot() calculates the dot product of two vectors\n",
    "np.dot(u,v)"
   ]
  },
  {
   "cell_type": "code",
   "execution_count": 14,
   "id": "ad4bf733",
   "metadata": {},
   "outputs": [
    {
     "data": {
      "text/plain": [
       "numpy.ndarray"
      ]
     },
     "execution_count": 14,
     "metadata": {},
     "output_type": "execute_result"
    }
   ],
   "source": [
    "type(u)"
   ]
  },
  {
   "cell_type": "code",
   "execution_count": 15,
   "id": "20d0076b",
   "metadata": {},
   "outputs": [
    {
     "name": "stdout",
     "output_type": "stream",
     "text": [
      "[1 2 3]\n"
     ]
    }
   ],
   "source": [
    "print(u)"
   ]
  },
  {
   "cell_type": "code",
   "execution_count": 16,
   "id": "7a5ff51e",
   "metadata": {},
   "outputs": [
    {
     "name": "stdout",
     "output_type": "stream",
     "text": [
      "Vector addition with another vector ---> [5 7 9]\n",
      "Vector addition with a scalar ---> [5 6 7]\n",
      "Vector multiplication by a scalar ---> [ 4  8 12]\n",
      "Vector multiplication (NOT dot nor cross product) ---> [ 4 10 18]\n",
      "Vector sum ---> 32\n",
      "Dot product ---> 32\n"
     ]
    }
   ],
   "source": [
    "# Some more operations on 1D-arrays:\n",
    "\n",
    "import numpy as np\n",
    "u = np.array([1,2,3])\n",
    "v = np.array([4,5,6])\n",
    "\n",
    "print(\"Vector addition with another vector ---> \" + str(u+v))\n",
    "print(\"Vector addition with a scalar ---> \" + str(u+4))\n",
    "print(\"Vector multiplication by a scalar ---> \" + str(u * 4))\n",
    "print(\"Vector multiplication (NOT dot nor cross product) ---> \" + str(u * v))\n",
    "print(\"Vector sum ---> \" + str(np.sum(u * v)))\n",
    "print(\"Dot product ---> \" + str(np.dot(u,v)))"
   ]
  },
  {
   "cell_type": "code",
   "execution_count": 17,
   "id": "6dcb0a69",
   "metadata": {},
   "outputs": [
    {
     "data": {
      "text/plain": [
       "array([[[1., 1., 1.],\n",
       "        [1., 1., 1.],\n",
       "        [1., 1., 1.]],\n",
       "\n",
       "       [[1., 1., 1.],\n",
       "        [1., 1., 1.],\n",
       "        [1., 1., 1.]],\n",
       "\n",
       "       [[1., 1., 1.],\n",
       "        [1., 1., 1.],\n",
       "        [1., 1., 1.]]])"
      ]
     },
     "execution_count": 17,
     "metadata": {},
     "output_type": "execute_result"
    }
   ],
   "source": [
    "\"\"\"\n",
    "Let's look at multi-dimensional arrays: 'arrays within arrays'\n",
    "\n",
    "The following code creates a total of three 3*3 matrices with all ones\n",
    "\"\"\"\n",
    "u = np.ones((3,3,3))\n",
    "u"
   ]
  },
  {
   "cell_type": "code",
   "execution_count": 18,
   "id": "a1c37a60",
   "metadata": {},
   "outputs": [
    {
     "data": {
      "text/plain": [
       "(3, 3, 3)"
      ]
     },
     "execution_count": 18,
     "metadata": {},
     "output_type": "execute_result"
    }
   ],
   "source": [
    "# Return the shape/dimension of array\n",
    "u.shape"
   ]
  },
  {
   "cell_type": "code",
   "execution_count": 19,
   "id": "1a8c9f5c",
   "metadata": {},
   "outputs": [
    {
     "data": {
      "text/plain": [
       "array([[1., 1., 1.],\n",
       "       [1., 1., 1.]])"
      ]
     },
     "execution_count": 19,
     "metadata": {},
     "output_type": "execute_result"
    }
   ],
   "source": [
    "np.ones((2,3))"
   ]
  },
  {
   "cell_type": "code",
   "execution_count": 20,
   "id": "97019f7e",
   "metadata": {},
   "outputs": [
    {
     "data": {
      "text/plain": [
       "array([[1., 1.],\n",
       "       [1., 1.],\n",
       "       [1., 1.]])"
      ]
     },
     "execution_count": 20,
     "metadata": {},
     "output_type": "execute_result"
    }
   ],
   "source": [
    "np.ones((3, 2))"
   ]
  },
  {
   "cell_type": "code",
   "execution_count": 21,
   "id": "38a963f3",
   "metadata": {},
   "outputs": [
    {
     "name": "stdout",
     "output_type": "stream",
     "text": [
      "estimated B for each error \n",
      "\n",
      "4.0+-0.2: 1.31+-0.03\n",
      "3.5+-0.2: 1.14+-0.02\n",
      "3.0+-0.2: 0.97+-0.04\n",
      "2.5+-0.2: 0.81+-0.02\n",
      "2.0+-0.2: 0.76+-0.05\n",
      "\n",
      " Estimated parameters of m and b:  [0.286 0.14 ]\n",
      "\n",
      " Estimated variance of m & b:  [0.02778489 0.08563877]\n"
     ]
    },
    {
     "data": {
      "image/png": "[encoded data removed]",
      "text/plain": [
       "<Figure size 640x480 with 1 Axes>"
      ]
     },
     "metadata": {},
     "output_type": "display_data"
    }
   ],
   "source": [
    "# import different packages used for data analysis\n",
    "# .. \"as opt\" means that the programmer could use the shorthand of \"opt\" to refer to this library, instead of typing the entire name\n",
    "import scipy.optimize as opt\n",
    "import numpy as np\n",
    "import matplotlib.pyplot as plt\n",
    "\n",
    "\n",
    "# Raw data manually entered by user\n",
    "I =[4.0, 3.5, 3.0, 2.5, 2.0]\n",
    "B =[1.31, 1.14, 0.97 ,0.81, 0.76]\n",
    "IError = [0.2, 0.2, 0.2, 0.2, 0.2]\n",
    "BError = [0.03, 0.02, 0.04, 0.02, 0.05]\n",
    "\n",
    "print(\"estimated B for each error \\n\")\n",
    "for i in range (5) :\n",
    "  print(str(I[i]) + \"+-\" + str(IError[i]) + \": \" + str(B[i]) + \"+-\" + str(BError[i]))\n",
    "  \n",
    "# Apply Numpy library to format the list of raw data into a multi-dimensional matrix\n",
    "# This is necessary for function optimization and in order to properly use the Scipy package\n",
    "xdata = np.array(I)\n",
    "ydata = np.array(B)\n",
    "xerror = np.array(IError)\n",
    "yerror= np.array(BError)\n",
    "\n",
    "# Define linear function for fitting,\n",
    "def func(h, m, b):\n",
    "    return m*h + b\n",
    "\n",
    "\n",
    "# w gives the estimated parameter for m and b, stored in the square matrix of w and u\n",
    "# the missing _ return info about variance and covariance\n",
    "\n",
    "# w is a matrix with information about the value of slope and y-intercept\n",
    "w, u = opt.curve_fit(func, xdata, ydata) \n",
    "\n",
    "# Apply x coordinates and optimized result about curve fit to find the \"Line of the Best Fit\"\n",
    "yfit = func(xdata,*w)\n",
    "    \n",
    "# Use Matplotlib package to graph data\n",
    "  # 1. Graph the error bars for each x-value \n",
    "  # 2. Graph the \"Line of the Best Fit\"\n",
    "\n",
    "# Note: there are options to customize the look of your graph with different parameters\n",
    "plt.errorbar(I, B, xerr=IError, yerr = BError, fmt='o', ms = 3)\n",
    "plt.plot(xdata,yfit,label=\"Fit\", linewidth=1.5, linestyle='dashed')\n",
    "\n",
    "# Add title and labels to the graph\n",
    "plt.title('I vs. B of the Electromagnet')\n",
    "plt.xlabel('Electromagnet Current I (A)')\n",
    "plt.ylabel('Magnetic Field B (T)')\n",
    "\n",
    "\n",
    "print(\"\\n Estimated parameters of m and b: \", w)\n",
    "print(\"\\n Estimated variance of m & b: \", np.sqrt(np.diag(u)))\n",
    "\n",
    "# If necessary, this is how you could save the graph to your local machine. \n",
    "# But here we do NOT need to save the graph, so we will comment out this line. \n",
    "\n",
    "# Specify the image name as the parameter\n",
    "### plt.savefig('IvsB.jpg')\n",
    "\n",
    "# Note: if you are showing and storing the graph, make sure you SAVE before SHOW.\n",
    "plt.show()\n",
    "    \n",
    "    "
   ]
  },
  {
   "cell_type": "code",
   "execution_count": null,
   "id": "42a09fa1",
   "metadata": {},
   "outputs": [
    {
     "name": "stdout",
     "output_type": "stream",
     "text": [
      " * Serving Flask app '__main__'\n",
      " * Debug mode: off\n"
     ]
    },
    {
     "name": "stderr",
     "output_type": "stream",
     "text": [
      "WARNING: This is a development server. Do not use it in a production deployment. Use a production WSGI server instead.\n",
      " * Running on http://127.0.0.1:5000\n",
      "Press CTRL+C to quit\n",
      "127.0.0.1 - - [03/Oct/2023 17:00:55] \"GET / HTTP/1.1\" 200 -\n",
      "127.0.0.1 - - [03/Oct/2023 17:00:55] \"GET /favicon.ico HTTP/1.1\" 200 -\n",
      "127.0.0.1 - - [03/Oct/2023 17:02:46] \"GET / HTTP/1.1\" 200 -\n",
      "127.0.0.1 - - [03/Oct/2023 17:02:47] \"GET /favicon.ico HTTP/1.1\" 200 -\n",
      "127.0.0.1 - - [03/Oct/2023 17:03:08] \"GET /admin HTTP/1.1\" 302 -\n",
      "127.0.0.1 - - [03/Oct/2023 17:03:08] \"GET / HTTP/1.1\" 200 -\n",
      "127.0.0.1 - - [03/Oct/2023 17:03:08] \"GET /favicon.ico HTTP/1.1\" 200 -\n",
      "127.0.0.1 - - [03/Oct/2023 17:03:17] \"GET /will HTTP/1.1\" 200 -\n",
      "127.0.0.1 - - [03/Oct/2023 17:03:17] \"GET /favicon.ico HTTP/1.1\" 200 -\n",
      "127.0.0.1 - - [03/Oct/2023 17:03:30] \"GET /admin HTTP/1.1\" 302 -\n",
      "127.0.0.1 - - [03/Oct/2023 17:03:30] \"GET / HTTP/1.1\" 200 -\n",
      "127.0.0.1 - - [03/Oct/2023 17:03:30] \"GET /favicon.ico HTTP/1.1\" 200 -\n"
     ]
    }
   ],
   "source": [
    "\"\"\"\n",
    "app.route defines the URL and what function to run for each URL.\n",
    "\n",
    "When only '/' is specified in the URL, it is assumed to be the home page. \n",
    "This web application will serve the text '<h1>WELCOME to My Home Page</h1>'\n",
    "in header 1 style. \n",
    "\n",
    "When the URL contains a name in the URL, the name from the URL is parsed to be used \n",
    "in the function that serves the web page. This is known as a \"dynamic webpage.\" \n",
    "\n",
    "When admin is specific in the URL, the admin() will run to \n",
    "redirects the page to show the home page. \n",
    "\n",
    "Refer to the images below for a view of how each page.\n",
    "\"\"\" \n",
    "\n",
    "\n",
    "# Import packages\n",
    "from flask import Flask, redirect, url_for\n",
    "\n",
    "app = Flask(__name__)\n",
    "\n",
    "@app.route(\"/\")\n",
    "def home():\n",
    "  return \"<h1>WELCOME to My Home Page</h1>\"\n",
    "\n",
    "@app.route(\"/<name>\")\n",
    "def user(name):\n",
    "  return f\"<h3>Hello, nice to meet you {name}!</h3>\"\n",
    "\n",
    "@app.route(\"/admin\")\n",
    "def admin():\n",
    "  return redirect(url_for(\"home\"))\n",
    "\n",
    "if __name__ == \"__main__\":\n",
    "  app.run()"
   ]
  },
  {
   "cell_type": "code",
   "execution_count": null,
   "id": "cfcf8f47",
   "metadata": {},
   "outputs": [],
   "source": []
  }
 ],
 "metadata": {
  "kernelspec": {
   "display_name": "Python 3 (ipykernel)",
   "language": "python",
   "name": "python3"
  },
  "language_info": {
   "codemirror_mode": {
    "name": "ipython",
    "version": 3
   },
   "file_extension": ".py",
   "mimetype": "text/x-python",
   "name": "python",
   "nbconvert_exporter": "python",
   "pygments_lexer": "ipython3",
   "version": "3.11.3"
  }
 },
 "nbformat": 4,
 "nbformat_minor": 5
}
