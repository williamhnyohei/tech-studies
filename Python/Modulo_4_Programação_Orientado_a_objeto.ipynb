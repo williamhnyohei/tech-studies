{
 "cells": [
  {
   "cell_type": "code",
   "execution_count": 1,
   "id": "df822c97",
   "metadata": {},
   "outputs": [],
   "source": [
    "# LibraryBook is the name of the class\n",
    "class LibraryBook:\n",
    "  \"\"\"\n",
    "  A library book\n",
    "  \"\"\"\n",
    "\n",
    "  # pass indicates that the body/suit of the class definition is empty.\n",
    "  pass"
   ]
  },
  {
   "cell_type": "code",
   "execution_count": 2,
   "id": "2786d5bd",
   "metadata": {},
   "outputs": [
    {
     "data": {
      "text/plain": [
       "<__main__.LibraryBook at 0x173896f9f90>"
      ]
     },
     "execution_count": 2,
     "metadata": {},
     "output_type": "execute_result"
    }
   ],
   "source": [
    "# This will create an instance of the class.\n",
    "my_book = LibraryBook()\n",
    "my_book"
   ]
  },
  {
   "cell_type": "code",
   "execution_count": 3,
   "id": "4654cb9a",
   "metadata": {},
   "outputs": [
    {
     "data": {
      "text/plain": [
       "__main__.LibraryBook"
      ]
     },
     "execution_count": 3,
     "metadata": {},
     "output_type": "execute_result"
    }
   ],
   "source": [
    "type(my_book) "
   ]
  },
  {
   "cell_type": "code",
   "execution_count": 4,
   "id": "ef1fbc3c",
   "metadata": {},
   "outputs": [
    {
     "data": {
      "text/plain": [
       "True"
      ]
     },
     "execution_count": 4,
     "metadata": {},
     "output_type": "execute_result"
    }
   ],
   "source": [
    "# Another way to check the type of some object\n",
    "isinstance(my_book, LibraryBook)"
   ]
  },
  {
   "cell_type": "code",
   "execution_count": 5,
   "id": "bee35695",
   "metadata": {},
   "outputs": [],
   "source": [
    "    \"\"\"\n",
    "    A library book.\n",
    "    \"\"\"\n",
    "    class LibraryBook (object):   \n",
    "\n",
    "      \"\"\"\n",
    "      The self parameter is REQUIRED within the class, \n",
    "      because it tells the program to retrieve/act on the instance object\n",
    "      that called it.\n",
    "      \"\"\"  \n",
    "      def __init__(self, title, author, pub_year, call_no):\n",
    "          self.title = title\n",
    "          self.author = author\n",
    "          self.year = pub_year\n",
    "          self.call_number = call_no\n",
    "          self.checked_out = False \n"
   ]
  },
  {
   "cell_type": "code",
   "execution_count": 6,
   "id": "5268a6fe",
   "metadata": {},
   "outputs": [],
   "source": [
    "\"\"\"\n",
    "Since we have already created my_book as a LibraryBook object,\n",
    "we could now manually add the title, author,... information associated with the book.\n",
    "\"\"\"\n",
    "\n",
    "my_book.title = \"Harry Potter and the Philosopher's Stone\"\n",
    "my_book.author = ('Rowling', 'J.K.')\n",
    "my_book.year = 1998\n",
    "my_book.call_number = \"PZ7.R79835\""
   ]
  },
  {
   "cell_type": "code",
   "execution_count": 7,
   "id": "d5fae0a5",
   "metadata": {},
   "outputs": [
    {
     "data": {
      "text/plain": [
       "('Rowling', 'J.K.')"
      ]
     },
     "execution_count": 7,
     "metadata": {},
     "output_type": "execute_result"
    }
   ],
   "source": [
    "# Retrieve a specific data field of an instance by calling instance name and the field name\n",
    "my_book.author"
   ]
  },
  {
   "cell_type": "code",
   "execution_count": 8,
   "id": "a66ed547",
   "metadata": {},
   "outputs": [
    {
     "data": {
      "text/plain": [
       "('Rowling', 'J.K.')"
      ]
     },
     "execution_count": 8,
     "metadata": {},
     "output_type": "execute_result"
    }
   ],
   "source": [
    "\"\"\"\n",
    "Or we could pass all the information into the __init__ to set up the fields \n",
    "when creating the new instance.\n",
    "\"\"\"\n",
    "\n",
    "new_book = LibraryBook(\"Harry Potter and the Sorcerer's Stone\", \n",
    "                       (\"Rowling\",\"J.K.\"), 1998, \"PZ7.R79835\")\n",
    "\n",
    "new_book.author"
   ]
  },
  {
   "cell_type": "code",
   "execution_count": 9,
   "id": "201437c7",
   "metadata": {},
   "outputs": [],
   "source": [
    "class LibraryBook(object):\n",
    "    \"\"\"\n",
    "    A library book.\n",
    "    \"\"\"\n",
    "         \n",
    "    def __init__(self, title, author, pub_year, call_no):\n",
    "        self.title = title\n",
    "        self.author = author\n",
    "        self.year = pub_year\n",
    "        self.call_number = call_no\n",
    "    \n",
    "    \"\"\"\n",
    "    Methods for LibraryBook\n",
    "    \"\"\"  \n",
    "\n",
    "    # Returns the title and author information of the book as a string\n",
    "    def title_and_author(self):\n",
    "        return \"{} {}: {}\".format(self.author[1], self.author[0], self.title) \n",
    "    \n",
    "    # Prints all information associated with a book in this format\n",
    "    def __str__(self): #make sure that __str__ returns a string!\n",
    "        return \"{} {} ({}): {}\".format(self.author[1], self.author[0], self.year, self.title) \n",
    "\n",
    "    # Returns a string representation of the book with it' title and call_number   \n",
    "    def __repr__(self): \n",
    "        return \"<Book: {} ({})>\".format(self.title, self.call_number)\n"
   ]
  },
  {
   "cell_type": "code",
   "execution_count": 10,
   "id": "326da3c9",
   "metadata": {},
   "outputs": [
    {
     "data": {
      "text/plain": [
       "<__main__.LibraryBook at 0x17389714450>"
      ]
     },
     "execution_count": 10,
     "metadata": {},
     "output_type": "execute_result"
    }
   ],
   "source": [
    "# Simply calling the instance itself is triggering __repr__()\n",
    "new_book"
   ]
  },
  {
   "cell_type": "code",
   "execution_count": 11,
   "id": "8861eeed",
   "metadata": {},
   "outputs": [
    {
     "name": "stdout",
     "output_type": "stream",
     "text": [
      "<__main__.LibraryBook object at 0x0000017389714450>\n"
     ]
    }
   ],
   "source": [
    "# print is triggering the __string__()\n",
    "print(new_book)"
   ]
  },
  {
   "cell_type": "code",
   "execution_count": 12,
   "id": "32c2ec1e",
   "metadata": {},
   "outputs": [
    {
     "data": {
      "text/plain": [
       "\"J.K. Rowling: Harry Potter and the Sorcerer's Stone\""
      ]
     },
     "execution_count": 12,
     "metadata": {},
     "output_type": "execute_result"
    }
   ],
   "source": [
    "new_book = LibraryBook(\"Harry Potter and the Sorcerer's Stone\", \n",
    "                       (\"Rowling\",\"J.K.\"), 1998, \"PZ7.R79835\")\n",
    "\n",
    "new_book.title_and_author()"
   ]
  },
  {
   "cell_type": "code",
   "execution_count": 13,
   "id": "90ebb823",
   "metadata": {},
   "outputs": [],
   "source": [
    "class ClownFish(object):\n",
    "    pass\n",
    "\n",
    "nemo = ClownFish()"
   ]
  },
  {
   "cell_type": "code",
   "execution_count": 14,
   "id": "fe1006d0",
   "metadata": {},
   "outputs": [
    {
     "data": {
      "text/plain": [
       "__main__.ClownFish"
      ]
     },
     "execution_count": 14,
     "metadata": {},
     "output_type": "execute_result"
    }
   ],
   "source": [
    "type(nemo)"
   ]
  },
  {
   "cell_type": "code",
   "execution_count": 15,
   "id": "7c0e80de",
   "metadata": {},
   "outputs": [
    {
     "data": {
      "text/plain": [
       "True"
      ]
     },
     "execution_count": 15,
     "metadata": {},
     "output_type": "execute_result"
    }
   ],
   "source": [
    "isinstance(nemo, ClownFish)"
   ]
  },
  {
   "cell_type": "code",
   "execution_count": 16,
   "id": "db84ca32",
   "metadata": {},
   "outputs": [],
   "source": [
    "class Animal(object):\n",
    "    pass\n",
    "\n",
    "class Vertebrate(Animal):\n",
    "    pass\n",
    "\n",
    "class Fish(Vertebrate):\n",
    "    pass\n",
    "\n",
    "class ClownFish(Fish):\n",
    "    pass\n",
    "\n",
    "class TangFish(Fish):\n",
    "    pass"
   ]
  },
  {
   "cell_type": "code",
   "execution_count": 17,
   "id": "89eb24ee",
   "metadata": {},
   "outputs": [],
   "source": [
    "nemo = ClownFish()"
   ]
  },
  {
   "cell_type": "code",
   "execution_count": 18,
   "id": "f7b46b79",
   "metadata": {},
   "outputs": [
    {
     "data": {
      "text/plain": [
       "True"
      ]
     },
     "execution_count": 18,
     "metadata": {},
     "output_type": "execute_result"
    }
   ],
   "source": [
    "isinstance(nemo, ClownFish)"
   ]
  },
  {
   "cell_type": "code",
   "execution_count": 19,
   "id": "da4ad740",
   "metadata": {},
   "outputs": [
    {
     "data": {
      "text/plain": [
       "False"
      ]
     },
     "execution_count": 19,
     "metadata": {},
     "output_type": "execute_result"
    }
   ],
   "source": [
    "isinstance(nemo, TangFish)"
   ]
  },
  {
   "cell_type": "code",
   "execution_count": 20,
   "id": "ab1831ed",
   "metadata": {},
   "outputs": [
    {
     "data": {
      "text/plain": [
       "True"
      ]
     },
     "execution_count": 20,
     "metadata": {},
     "output_type": "execute_result"
    }
   ],
   "source": [
    "# the is-a relationship is transitive\n",
    "isinstance(nemo, Animal) "
   ]
  },
  {
   "cell_type": "code",
   "execution_count": 21,
   "id": "999ba10b",
   "metadata": {},
   "outputs": [
    {
     "data": {
      "text/plain": [
       "True"
      ]
     },
     "execution_count": 21,
     "metadata": {},
     "output_type": "execute_result"
    }
   ],
   "source": [
    "# All classes have a parent class of Object.\n",
    "isinstance(nemo, object)"
   ]
  },
  {
   "cell_type": "code",
   "execution_count": 22,
   "id": "8db7777b",
   "metadata": {},
   "outputs": [],
   "source": [
    "class Fish(Animal):\n",
    "    def speak(self): \n",
    "        return \"Blub\"\n",
    "\n",
    "class ClownFish(Fish):\n",
    "    pass\n",
    "\n",
    "class TangFish(Fish):\n",
    "    pass"
   ]
  },
  {
   "cell_type": "code",
   "execution_count": 23,
   "id": "cd0e758a",
   "metadata": {},
   "outputs": [
    {
     "data": {
      "text/plain": [
       "'Blub'"
      ]
     },
     "execution_count": 23,
     "metadata": {},
     "output_type": "execute_result"
    }
   ],
   "source": [
    "dory = TangFish()\n",
    "\n",
    "\"\"\"\n",
    "TangFish is a child class of Fish, so it can access the speak() from Fish class.\n",
    "It will first look for the method call within its class, and if not found, then repeat \n",
    "the search for each parent level up.\n",
    "\"\"\"\n",
    "dory.speak()"
   ]
  },
  {
   "cell_type": "code",
   "execution_count": 24,
   "id": "895299ec",
   "metadata": {},
   "outputs": [
    {
     "data": {
      "text/plain": [
       "'Blub'"
      ]
     },
     "execution_count": 24,
     "metadata": {},
     "output_type": "execute_result"
    }
   ],
   "source": [
    "nemo = ClownFish()\n",
    "\n",
    "# ClownFish is a child class of Fish, so it can access the speak() from Fish class\n",
    "\n",
    "nemo.speak()"
   ]
  },
  {
   "cell_type": "code",
   "execution_count": 25,
   "id": "4afc36f4",
   "metadata": {},
   "outputs": [],
   "source": [
    "class TangFish(Fish):\n",
    "    def speak(self):\n",
    "        return \"Hello, I'm a TangFish instance.\""
   ]
  },
  {
   "cell_type": "code",
   "execution_count": 26,
   "id": "60965602",
   "metadata": {},
   "outputs": [
    {
     "data": {
      "text/plain": [
       "\"Hello, I'm a TangFish instance.\""
      ]
     },
     "execution_count": 26,
     "metadata": {},
     "output_type": "execute_result"
    }
   ],
   "source": [
    "dory = TangFish()\n",
    "\n",
    "# this speak() is from the TangFish class\n",
    "dory.speak()"
   ]
  },
  {
   "cell_type": "code",
   "execution_count": 27,
   "id": "b263d820",
   "metadata": {},
   "outputs": [
    {
     "data": {
      "text/plain": [
       "'Blub'"
      ]
     },
     "execution_count": 27,
     "metadata": {},
     "output_type": "execute_result"
    }
   ],
   "source": [
    "\"\"\"\n",
    "On the other hand, since the ClownFish class still does NOT \n",
    "define the speak(), instances of ClownFish are still using the \n",
    "speak() from the parent class of Fish.\n",
    "\"\"\"\n",
    "\n",
    "nemo = ClownFish()\n",
    "nemo.speak()"
   ]
  },
  {
   "cell_type": "code",
   "execution_count": 28,
   "id": "32c78c12",
   "metadata": {},
   "outputs": [
    {
     "name": "stdout",
     "output_type": "stream",
     "text": [
      "<__main__.ClownFish object at 0x000001738966AA50>\n"
     ]
    }
   ],
   "source": [
    "# What happen when we want to print the nemo instance?\n",
    "print(nemo)"
   ]
  },
  {
   "cell_type": "code",
   "execution_count": 29,
   "id": "5c43ac08",
   "metadata": {},
   "outputs": [],
   "source": [
    "# The print statement is not easy to understand, so we will override it.\n",
    "\n",
    "class ClownFish(Fish):\n",
    "    def __init__(self, name):\n",
    "        self.name = name\n",
    "    def __str__(self):\n",
    "        return \"A ClownFish named \"+self.name"
   ]
  },
  {
   "cell_type": "code",
   "execution_count": 30,
   "id": "a0490031",
   "metadata": {},
   "outputs": [
    {
     "name": "stdout",
     "output_type": "stream",
     "text": [
      "A ClownFish named Nemo\n"
     ]
    }
   ],
   "source": [
    "nemo = ClownFish('Nemo')\n",
    "\n",
    "print(nemo)"
   ]
  },
  {
   "cell_type": "code",
   "execution_count": 31,
   "id": "5fca322c",
   "metadata": {},
   "outputs": [],
   "source": [
    "class Fish(Vertebrate):\n",
    "\n",
    "    # self.name is not defined in Fish class, but is defined in the ClownFish class.\n",
    "    def __str__(self):\n",
    "        return \"Hello, my name is {}\".format(self.name)\n",
    "    \n",
    "class ClownFish(Fish):\n",
    "    def __init__(self, name):\n",
    "        self.name = name"
   ]
  },
  {
   "cell_type": "code",
   "execution_count": 32,
   "id": "1e882693",
   "metadata": {},
   "outputs": [
    {
     "name": "stdout",
     "output_type": "stream",
     "text": [
      "Hello, my name is nemo\n"
     ]
    }
   ],
   "source": [
    "nemo = ClownFish(\"nemo\")\n",
    "\n",
    "# The self.name attribute for the __str__() is from the ClownFish class\n",
    "# but the __str__() is from the Fish class\n",
    "print(nemo)"
   ]
  },
  {
   "cell_type": "code",
   "execution_count": 33,
   "id": "0c8c130f",
   "metadata": {},
   "outputs": [
    {
     "ename": "AttributeError",
     "evalue": "'Fish' object has no attribute 'name'",
     "output_type": "error",
     "traceback": [
      "\u001b[1;31m---------------------------------------------------------------------------\u001b[0m",
      "\u001b[1;31mAttributeError\u001b[0m                            Traceback (most recent call last)",
      "Cell \u001b[1;32mIn[33], line 6\u001b[0m\n\u001b[0;32m      1\u001b[0m \u001b[38;5;124;03m\"\"\"\u001b[39;00m\n\u001b[0;32m      2\u001b[0m \u001b[38;5;124;03mERROR, because if nemo is an instance of fish class, \u001b[39;00m\n\u001b[0;32m      3\u001b[0m \u001b[38;5;124;03mthen it does NOT have the name attribute.\u001b[39;00m\n\u001b[0;32m      4\u001b[0m \u001b[38;5;124;03m\"\"\"\u001b[39;00m\n\u001b[0;32m      5\u001b[0m nemo \u001b[38;5;241m=\u001b[39m Fish()\n\u001b[1;32m----> 6\u001b[0m \u001b[38;5;28mprint\u001b[39m(nemo)\n",
      "Cell \u001b[1;32mIn[31], line 5\u001b[0m, in \u001b[0;36mFish.__str__\u001b[1;34m(self)\u001b[0m\n\u001b[0;32m      4\u001b[0m \u001b[38;5;28;01mdef\u001b[39;00m \u001b[38;5;21m__str__\u001b[39m(\u001b[38;5;28mself\u001b[39m):\n\u001b[1;32m----> 5\u001b[0m     \u001b[38;5;28;01mreturn\u001b[39;00m \u001b[38;5;124m\"\u001b[39m\u001b[38;5;124mHello, my name is \u001b[39m\u001b[38;5;132;01m{}\u001b[39;00m\u001b[38;5;124m\"\u001b[39m\u001b[38;5;241m.\u001b[39mformat(\u001b[38;5;28mself\u001b[39m\u001b[38;5;241m.\u001b[39mname)\n",
      "\u001b[1;31mAttributeError\u001b[0m: 'Fish' object has no attribute 'name'"
     ]
    }
   ],
   "source": [
    "\"\"\"\n",
    "ERROR, because if nemo is an instance of fish class, \n",
    "then it does NOT have the name attribute.\n",
    "\"\"\"\n",
    "nemo = Fish()\n",
    "print(nemo)"
   ]
  },
  {
   "cell_type": "code",
   "execution_count": 34,
   "id": "0656b0b9",
   "metadata": {},
   "outputs": [],
   "source": [
    "class Fish(Vertebrate):\n",
    "    def __init__(self, name):\n",
    "        self.name = name\n",
    "\n",
    "    # self.name is not defined in Fish class, but is defined in the ClownFish class.\n",
    "    def __str__(self):\n",
    "        return \"Hello, my name is {}\".format(self.name)\n",
    "    \n",
    "class ClownFish(Fish):\n",
    "    def __init__(self, name):\n",
    "        self.name = name"
   ]
  },
  {
   "cell_type": "code",
   "execution_count": 35,
   "id": "2ef3c65c",
   "metadata": {},
   "outputs": [
    {
     "name": "stdout",
     "output_type": "stream",
     "text": [
      "Hello, my name is Nemo\n"
     ]
    }
   ],
   "source": [
    "nemo = ClownFish(\"Nemo\")\n",
    "\n",
    "# __str__() is accessing the self.name from the child level\n",
    "print(nemo)"
   ]
  },
  {
   "cell_type": "code",
   "execution_count": 36,
   "id": "272c2e7d",
   "metadata": {},
   "outputs": [
    {
     "name": "stdout",
     "output_type": "stream",
     "text": [
      "Hello, my name is clown_fish\n"
     ]
    }
   ],
   "source": [
    "nemo = Fish(\"clown_fish\")\n",
    "\n",
    "# __str__ ia accessing the self.name attribute from Fish class\n",
    "print(nemo)"
   ]
  },
  {
   "cell_type": "code",
   "execution_count": null,
   "id": "fe43f78a",
   "metadata": {},
   "outputs": [],
   "source": []
  }
 ],
 "metadata": {
  "kernelspec": {
   "display_name": "Python 3 (ipykernel)",
   "language": "python",
   "name": "python3"
  },
  "language_info": {
   "codemirror_mode": {
    "name": "ipython",
    "version": 3
   },
   "file_extension": ".py",
   "mimetype": "text/x-python",
   "name": "python",
   "nbconvert_exporter": "python",
   "pygments_lexer": "ipython3",
   "version": "3.11.3"
  }
 },
 "nbformat": 4,
 "nbformat_minor": 5
}
