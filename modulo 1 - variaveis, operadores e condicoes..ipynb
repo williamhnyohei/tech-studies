{
 "cells": [
  {
   "cell_type": "code",
   "execution_count": 1,
   "id": "c2d4c1c2",
   "metadata": {},
   "outputs": [],
   "source": [
    "# Examples of variable declarations\n",
    "width = 10\n",
    "\n",
    "# Notice the \"H\" is capitalized\n",
    "Height = 5\n",
    "\n",
    "area = 0"
   ]
  },
  {
   "cell_type": "code",
   "execution_count": 2,
   "id": "124ed3c0",
   "metadata": {},
   "outputs": [
    {
     "data": {
      "text/plain": [
       "10"
      ]
     },
     "execution_count": 2,
     "metadata": {},
     "output_type": "execute_result"
    }
   ],
   "source": [
    "width"
   ]
  },
  {
   "cell_type": "code",
   "execution_count": 3,
   "id": "84735932",
   "metadata": {},
   "outputs": [
    {
     "data": {
      "text/plain": [
       "5"
      ]
     },
     "execution_count": 3,
     "metadata": {},
     "output_type": "execute_result"
    }
   ],
   "source": [
    "Height"
   ]
  },
  {
   "cell_type": "code",
   "execution_count": 5,
   "id": "f28078a1",
   "metadata": {},
   "outputs": [
    {
     "data": {
      "text/plain": [
       "int"
      ]
     },
     "execution_count": 5,
     "metadata": {},
     "output_type": "execute_result"
    }
   ],
   "source": [
    "type(width)"
   ]
  },
  {
   "cell_type": "code",
   "execution_count": 6,
   "id": "6fdacda8",
   "metadata": {},
   "outputs": [
    {
     "data": {
      "text/plain": [
       "10.0"
      ]
     },
     "execution_count": 6,
     "metadata": {},
     "output_type": "execute_result"
    }
   ],
   "source": [
    "width_float = float(width)\n",
    "\n",
    "width_float"
   ]
  },
  {
   "cell_type": "code",
   "execution_count": 7,
   "id": "f05b6a55",
   "metadata": {},
   "outputs": [
    {
     "data": {
      "text/plain": [
       "float"
      ]
     },
     "execution_count": 7,
     "metadata": {},
     "output_type": "execute_result"
    }
   ],
   "source": [
    "type(width_float)"
   ]
  },
  {
   "cell_type": "code",
   "execution_count": 9,
   "id": "fdc10278",
   "metadata": {},
   "outputs": [],
   "source": [
    "width_string = str(width)"
   ]
  },
  {
   "cell_type": "code",
   "execution_count": 10,
   "id": "198d3279",
   "metadata": {},
   "outputs": [
    {
     "data": {
      "text/plain": [
       "str"
      ]
     },
     "execution_count": 10,
     "metadata": {},
     "output_type": "execute_result"
    }
   ],
   "source": [
    "type(width_string)"
   ]
  },
  {
   "cell_type": "code",
   "execution_count": 11,
   "id": "23355d87",
   "metadata": {},
   "outputs": [
    {
     "name": "stdout",
     "output_type": "stream",
     "text": [
      "y is NOT double nor squared of x\n"
     ]
    }
   ],
   "source": [
    "x = 7\n",
    "y = 50\n",
    "\n",
    "\n",
    "if (2*x == y):\n",
    "  print(\"y is double of x\")\n",
    "elif (x**2 == y):\n",
    "  print(\"y is the squared of x\")\n",
    "else:\n",
    "  print(\"y is NOT double nor squared of x\")"
   ]
  },
  {
   "cell_type": "code",
   "execution_count": 12,
   "id": "faf6af19",
   "metadata": {},
   "outputs": [
    {
     "name": "stdout",
     "output_type": "stream",
     "text": [
      "Dial a number9\n"
     ]
    },
    {
     "data": {
      "text/plain": [
       "'Entered 9'"
      ]
     },
     "execution_count": 12,
     "metadata": {},
     "output_type": "execute_result"
    }
   ],
   "source": [
    "def switcher(number):\n",
    "\n",
    "  # dictionary (from Module 3) to store switch cases\n",
    "  # If not found, then get() the default value\n",
    "  return {\n",
    "    '0':\"Entered 0\",\n",
    "    '1':\"Entered 1\",\n",
    "    '2':\"Entered 2\",\n",
    "    '3':\"Entered 3\",\n",
    "    '4':\"Entered 4\",\n",
    "    '5':\"Entered 5\",\n",
    "    '6':\"Entered 6\",\n",
    "    '7':\"Entered 7\",\n",
    "    '8':\"Entered 8\",\n",
    "    '9':\"Entered 9\",\n",
    "  }.get(number,\"Invalid number!\")\n",
    "\n",
    "\n",
    "# input() reads in an user input from stdin\n",
    "number = input(\"Dial a number\")\n",
    "switcher(number)"
   ]
  },
  {
   "cell_type": "code",
   "execution_count": null,
   "id": "272c92d1",
   "metadata": {},
   "outputs": [],
   "source": []
  }
 ],
 "metadata": {
  "kernelspec": {
   "display_name": "Python 3 (ipykernel)",
   "language": "python",
   "name": "python3"
  },
  "language_info": {
   "codemirror_mode": {
    "name": "ipython",
    "version": 3
   },
   "file_extension": ".py",
   "mimetype": "text/x-python",
   "name": "python",
   "nbconvert_exporter": "python",
   "pygments_lexer": "ipython3",
   "version": "3.11.3"
  }
 },
 "nbformat": 4,
 "nbformat_minor": 5
}
